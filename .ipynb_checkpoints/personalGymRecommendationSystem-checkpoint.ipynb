{
 "cells": [
  {
   "cell_type": "markdown",
   "id": "1fde954d",
   "metadata": {},
   "source": [
    "<img src='images/header.png'>\n",
    "\n",
    "# Personal Gym Recommmendation System\n",
    "\n",
    "** The \"Personal Gym Recommendation\" project aims to build a system that helps gym-goers get a recommendation system that takes into account the specific fitness preferences for beginners **\n",
    "###### © 2024 <a href='https://www.kaggle.com/'>Kaggle </a>. All rights reserved.\n",
    "\n",
    "The dataset contains the following variables:\n",
    "\n",
    "* **'1. Sex':** : Indicates the gender of the individual (Male/Female).\n",
    "* **'2. Age':** Age of the individual in years.\n",
    "* **'3. Height':** Height of the individual in meters.\n",
    "* **'4. Weight':** Weight of the individual in kilograms.\n",
    "* **'5. Hypertension':** Indicates whether the individual has hypertension (Yes/No).\n",
    "* **'6. Diabetes':** Indicates whether the individual has diabetes (Yes/No).\n",
    "* **'7. BMI':** Body Mass Index of the individual, calculated as weight in kilograms divided by the square of height in meters.\n",
    "* **'8. Level':** : Categorizes the individual's weight status based on BMI (e.g., Underweight, Normal, Overweight, Obese).\n",
    "* **'9. Lower Limmit':** (possibly meant to be \"Lower Limit\"): Lower limit of the standard weight range for the individual, based on height.\n",
    "* **'10. Upper Limmit':** (possibly meant to be \"Upper Limit\"): Upper limit of the standard weight range for the individual, based on height.\n",
    "* **'11. Standard Weight':** A range indicating the healthy or standard weight range for the individual, given in kilograms.\n",
    "* **'12. Fat Percentage':** The percentage of the individual's weight that is fat.\n",
    "* **'13. Fitness Goal':** The individual's fitness goal (e.g., Weight Gain, Weight Loss).\n",
    "* **'14. Fitness Type:':** : Type of fitness the program is targeting (e.g., Muscular Fitness, Cardiovascular Fitness).\n",
    "* **'15. Exercises':** Recommended exercises for the individual to meet their fitness goal.\n",
    "* **'16. Equipment Required':** HThe equipment needed to perform the recommended exercises.\n",
    "* **'17. Diet':** Recommended diet or foods for the individual to follow, aimed at supporting their fitness goal.\n",
    "* **'18. Conclusion Recommendation':** A general conclusion or recommendation given to the individual based on their profile and fitness goals."
   ]
  },
  {
   "cell_type": "markdown",
   "id": "983f79a3",
   "metadata": {},
   "source": [
    "-------------"
   ]
  },
  {
   "cell_type": "markdown",
   "id": "573aaac7",
   "metadata": {},
   "source": [
    "### Import Libraries"
   ]
  },
  {
   "cell_type": "code",
   "execution_count": 73,
   "id": "9dc79d90",
   "metadata": {},
   "outputs": [],
   "source": [
    "import numpy as np\n",
    "import pandas as pd\n",
    "import matplotlib.pyplot as plt\n",
    "import seaborn as sns\n",
    "from sklearn.preprocessing import LabelEncoder\n",
    "from sklearn.multioutput import MultiOutputClassifier\n",
    "from sklearn.metrics import accuracy_score\n",
    "from sklearn.model_selection import train_test_split\n",
    "from sklearn.linear_model import LogisticRegression\n",
    "from sklearn.linear_model import LinearRegression\n",
    "from sklearn.ensemble import RandomForestClassifier, RandomForestRegressor\n",
    "from sklearn.metrics import classification_report\n",
    "from sklearn.tree import DecisionTreeClassifier, DecisionTreeRegressor\n",
    "from sklearn.neighbors import KNeighborsRegressor\n",
    "from sklearn.neighbors import KNeighborsClassifier\n",
    "from sklearn.metrics import mean_squared_error\n",
    "from sklearn.metrics import accuracy_score\n",
    "from imblearn.combine import SMOTEENN"
   ]
  },
  {
   "cell_type": "markdown",
   "id": "92847b67",
   "metadata": {},
   "source": [
    "--------------"
   ]
  },
  {
   "cell_type": "markdown",
   "id": "cac4c24d",
   "metadata": {},
   "source": [
    "### Reading Data & Check out the Data"
   ]
  },
  {
   "cell_type": "code",
   "execution_count": 3,
   "id": "9b8ae4f6",
   "metadata": {},
   "outputs": [],
   "source": [
    "\n",
    "df = pd.read_excel('dataset/gym recommendation.xlsx')"
   ]
  },
  {
   "cell_type": "code",
   "execution_count": 4,
   "id": "5a21539b",
   "metadata": {},
   "outputs": [
    {
     "data": {
      "text/html": [
       "<div>\n",
       "<style scoped>\n",
       "    .dataframe tbody tr th:only-of-type {\n",
       "        vertical-align: middle;\n",
       "    }\n",
       "\n",
       "    .dataframe tbody tr th {\n",
       "        vertical-align: top;\n",
       "    }\n",
       "\n",
       "    .dataframe thead th {\n",
       "        text-align: right;\n",
       "    }\n",
       "</style>\n",
       "<table border=\"1\" class=\"dataframe\">\n",
       "  <thead>\n",
       "    <tr style=\"text-align: right;\">\n",
       "      <th></th>\n",
       "      <th>Sex</th>\n",
       "      <th>Age</th>\n",
       "      <th>Height</th>\n",
       "      <th>Weight</th>\n",
       "      <th>Hypertension</th>\n",
       "      <th>Diabetes</th>\n",
       "      <th>BMI</th>\n",
       "      <th>Level</th>\n",
       "      <th>Lower Limmit</th>\n",
       "      <th>Upper Limmit</th>\n",
       "      <th>Standard Weight</th>\n",
       "      <th>Fat Percentage</th>\n",
       "      <th>Fitness Goal</th>\n",
       "      <th>Fitness Type</th>\n",
       "      <th>Exercises</th>\n",
       "      <th>Equipment Required</th>\n",
       "      <th>Diet</th>\n",
       "      <th>Conclusion Recommendation</th>\n",
       "    </tr>\n",
       "  </thead>\n",
       "  <tbody>\n",
       "    <tr>\n",
       "      <th>0</th>\n",
       "      <td>Male</td>\n",
       "      <td>18</td>\n",
       "      <td>1.68</td>\n",
       "      <td>47.5</td>\n",
       "      <td>No</td>\n",
       "      <td>No</td>\n",
       "      <td>16.83</td>\n",
       "      <td>Underweight</td>\n",
       "      <td>52.21</td>\n",
       "      <td>70.28</td>\n",
       "      <td>52.21 (kg) - 70.28(kg)</td>\n",
       "      <td>8.14</td>\n",
       "      <td>Weight Gain</td>\n",
       "      <td>Muscular Fitness</td>\n",
       "      <td>Squats, deadlifts, bench presses, and overhead...</td>\n",
       "      <td>Dumbbells and barbells</td>\n",
       "      <td>Vegetables: (Carrots, Sweet Potato, and Lettuc...</td>\n",
       "      <td>Follow a regular exercise schedule. Adhere to ...</td>\n",
       "    </tr>\n",
       "    <tr>\n",
       "      <th>1</th>\n",
       "      <td>Male</td>\n",
       "      <td>18</td>\n",
       "      <td>1.68</td>\n",
       "      <td>47.5</td>\n",
       "      <td>Yes</td>\n",
       "      <td>No</td>\n",
       "      <td>16.83</td>\n",
       "      <td>Underweight</td>\n",
       "      <td>52.21</td>\n",
       "      <td>70.28</td>\n",
       "      <td>52.21 (kg) - 70.28(kg)</td>\n",
       "      <td>8.14</td>\n",
       "      <td>Weight Gain</td>\n",
       "      <td>Muscular Fitness</td>\n",
       "      <td>Squats, deadlifts, bench presses, and overhead...</td>\n",
       "      <td>Light athletic shoes, resistance bands, and li...</td>\n",
       "      <td>Vegetables: (Tomatoes, Garlic, leafy greens, b...</td>\n",
       "      <td>Follow a regular exercise schedule. Adhere to ...</td>\n",
       "    </tr>\n",
       "    <tr>\n",
       "      <th>2</th>\n",
       "      <td>Male</td>\n",
       "      <td>18</td>\n",
       "      <td>1.68</td>\n",
       "      <td>47.5</td>\n",
       "      <td>No</td>\n",
       "      <td>Yes</td>\n",
       "      <td>16.83</td>\n",
       "      <td>Underweight</td>\n",
       "      <td>52.21</td>\n",
       "      <td>70.28</td>\n",
       "      <td>52.21 (kg) - 70.28(kg)</td>\n",
       "      <td>8.14</td>\n",
       "      <td>Weight Gain</td>\n",
       "      <td>Muscular Fitness</td>\n",
       "      <td>Squats, yoga, deadlifts, bench presses, and ov...</td>\n",
       "      <td>Dumbbells, barbells and Blood glucose monitor</td>\n",
       "      <td>Vegetables: (Garlic, Roma Tomatoes, Capers and...</td>\n",
       "      <td>Follow a regular exercise schedule. Adhere to ...</td>\n",
       "    </tr>\n",
       "    <tr>\n",
       "      <th>3</th>\n",
       "      <td>Male</td>\n",
       "      <td>18</td>\n",
       "      <td>1.68</td>\n",
       "      <td>47.5</td>\n",
       "      <td>Yes</td>\n",
       "      <td>Yes</td>\n",
       "      <td>16.83</td>\n",
       "      <td>Underweight</td>\n",
       "      <td>52.21</td>\n",
       "      <td>70.28</td>\n",
       "      <td>52.21 (kg) - 70.28(kg)</td>\n",
       "      <td>8.14</td>\n",
       "      <td>Weight Gain</td>\n",
       "      <td>Muscular Fitness</td>\n",
       "      <td>Squats, yoga, deadlifts, bench presses, and ov...</td>\n",
       "      <td>Light athletic shoes, resistance bands, light ...</td>\n",
       "      <td>Vegetables: (Garlic, Roma Tomatoes, Capers, Gr...</td>\n",
       "      <td>Follow a regular exercise schedule. Adhere to ...</td>\n",
       "    </tr>\n",
       "    <tr>\n",
       "      <th>4</th>\n",
       "      <td>Male</td>\n",
       "      <td>18</td>\n",
       "      <td>1.68</td>\n",
       "      <td>47.5</td>\n",
       "      <td>No</td>\n",
       "      <td>No</td>\n",
       "      <td>16.83</td>\n",
       "      <td>Underweight</td>\n",
       "      <td>52.21</td>\n",
       "      <td>70.28</td>\n",
       "      <td>52.21 (kg) - 70.28(kg)</td>\n",
       "      <td>8.14</td>\n",
       "      <td>Weight Gain</td>\n",
       "      <td>Muscular Fitness</td>\n",
       "      <td>Squats, deadlifts, bench presses, and overhead...</td>\n",
       "      <td>Dumbbells and barbells</td>\n",
       "      <td>Vegetables: (Carrots, Sweet Potato, Lettuce); ...</td>\n",
       "      <td>Follow a regular exercise schedule. Adhere to ...</td>\n",
       "    </tr>\n",
       "  </tbody>\n",
       "</table>\n",
       "</div>"
      ],
      "text/plain": [
       "    Sex  Age  Height  Weight Hypertension Diabetes    BMI        Level  \\\n",
       "0  Male   18    1.68    47.5           No       No  16.83  Underweight   \n",
       "1  Male   18    1.68    47.5          Yes       No  16.83  Underweight   \n",
       "2  Male   18    1.68    47.5           No      Yes  16.83  Underweight   \n",
       "3  Male   18    1.68    47.5          Yes      Yes  16.83  Underweight   \n",
       "4  Male   18    1.68    47.5           No       No  16.83  Underweight   \n",
       "\n",
       "   Lower Limmit  Upper Limmit         Standard Weight  Fat Percentage  \\\n",
       "0         52.21         70.28  52.21 (kg) - 70.28(kg)            8.14   \n",
       "1         52.21         70.28  52.21 (kg) - 70.28(kg)            8.14   \n",
       "2         52.21         70.28  52.21 (kg) - 70.28(kg)            8.14   \n",
       "3         52.21         70.28  52.21 (kg) - 70.28(kg)            8.14   \n",
       "4         52.21         70.28  52.21 (kg) - 70.28(kg)            8.14   \n",
       "\n",
       "  Fitness Goal      Fitness Type  \\\n",
       "0  Weight Gain  Muscular Fitness   \n",
       "1  Weight Gain  Muscular Fitness   \n",
       "2  Weight Gain  Muscular Fitness   \n",
       "3  Weight Gain  Muscular Fitness   \n",
       "4  Weight Gain  Muscular Fitness   \n",
       "\n",
       "                                           Exercises  \\\n",
       "0  Squats, deadlifts, bench presses, and overhead...   \n",
       "1  Squats, deadlifts, bench presses, and overhead...   \n",
       "2  Squats, yoga, deadlifts, bench presses, and ov...   \n",
       "3  Squats, yoga, deadlifts, bench presses, and ov...   \n",
       "4  Squats, deadlifts, bench presses, and overhead...   \n",
       "\n",
       "                                  Equipment Required  \\\n",
       "0                             Dumbbells and barbells   \n",
       "1  Light athletic shoes, resistance bands, and li...   \n",
       "2      Dumbbells, barbells and Blood glucose monitor   \n",
       "3  Light athletic shoes, resistance bands, light ...   \n",
       "4                             Dumbbells and barbells   \n",
       "\n",
       "                                                Diet  \\\n",
       "0  Vegetables: (Carrots, Sweet Potato, and Lettuc...   \n",
       "1  Vegetables: (Tomatoes, Garlic, leafy greens, b...   \n",
       "2  Vegetables: (Garlic, Roma Tomatoes, Capers and...   \n",
       "3  Vegetables: (Garlic, Roma Tomatoes, Capers, Gr...   \n",
       "4  Vegetables: (Carrots, Sweet Potato, Lettuce); ...   \n",
       "\n",
       "                           Conclusion Recommendation  \n",
       "0  Follow a regular exercise schedule. Adhere to ...  \n",
       "1  Follow a regular exercise schedule. Adhere to ...  \n",
       "2  Follow a regular exercise schedule. Adhere to ...  \n",
       "3  Follow a regular exercise schedule. Adhere to ...  \n",
       "4  Follow a regular exercise schedule. Adhere to ...  "
      ]
     },
     "execution_count": 4,
     "metadata": {},
     "output_type": "execute_result"
    }
   ],
   "source": [
    "df.head()"
   ]
  },
  {
   "cell_type": "code",
   "execution_count": 5,
   "id": "ba2f7e49",
   "metadata": {},
   "outputs": [
    {
     "data": {
      "text/plain": [
       "(14589, 18)"
      ]
     },
     "execution_count": 5,
     "metadata": {},
     "output_type": "execute_result"
    }
   ],
   "source": [
    "df.shape"
   ]
  },
  {
   "cell_type": "code",
   "execution_count": 6,
   "id": "04cc539f",
   "metadata": {},
   "outputs": [
    {
     "name": "stdout",
     "output_type": "stream",
     "text": [
      "<class 'pandas.core.frame.DataFrame'>\n",
      "RangeIndex: 14589 entries, 0 to 14588\n",
      "Data columns (total 18 columns):\n",
      " #   Column                     Non-Null Count  Dtype  \n",
      "---  ------                     --------------  -----  \n",
      " 0   Sex                        14589 non-null  object \n",
      " 1   Age                        14589 non-null  int64  \n",
      " 2   Height                     14589 non-null  float64\n",
      " 3   Weight                     14589 non-null  float64\n",
      " 4   Hypertension               14589 non-null  object \n",
      " 5   Diabetes                   14589 non-null  object \n",
      " 6   BMI                        14589 non-null  float64\n",
      " 7   Level                      14589 non-null  object \n",
      " 8   Lower Limmit               14589 non-null  float64\n",
      " 9   Upper Limmit               14589 non-null  float64\n",
      " 10  Standard Weight            14589 non-null  object \n",
      " 11  Fat Percentage             14589 non-null  float64\n",
      " 12  Fitness Goal               14589 non-null  object \n",
      " 13  Fitness Type               14589 non-null  object \n",
      " 14  Exercises                  14589 non-null  object \n",
      " 15  Equipment Required         14589 non-null  object \n",
      " 16  Diet                       14589 non-null  object \n",
      " 17  Conclusion Recommendation  14589 non-null  object \n",
      "dtypes: float64(6), int64(1), object(11)\n",
      "memory usage: 2.0+ MB\n"
     ]
    }
   ],
   "source": [
    "df.info()"
   ]
  },
  {
   "cell_type": "code",
   "execution_count": 7,
   "id": "412d1139",
   "metadata": {},
   "outputs": [
    {
     "data": {
      "text/plain": [
       "Index(['Sex', 'Age', 'Height', 'Weight', 'Hypertension', 'Diabetes', 'BMI',\n",
       "       'Level', 'Lower Limmit', 'Upper Limmit', 'Standard Weight',\n",
       "       'Fat Percentage', 'Fitness Goal', 'Fitness Type', 'Exercises',\n",
       "       'Equipment Required', 'Diet', 'Conclusion Recommendation'],\n",
       "      dtype='object')"
      ]
     },
     "execution_count": 7,
     "metadata": {},
     "output_type": "execute_result"
    }
   ],
   "source": [
    "df.columns"
   ]
  },
  {
   "cell_type": "markdown",
   "id": "4c2adb46",
   "metadata": {},
   "source": [
    "-----------"
   ]
  },
  {
   "cell_type": "markdown",
   "id": "18030aa4",
   "metadata": {},
   "source": [
    "### Checking any records in the dataset with (missing values, duplicates, etc) and hadling them."
   ]
  },
  {
   "cell_type": "code",
   "execution_count": 8,
   "id": "52a349e9",
   "metadata": {},
   "outputs": [
    {
     "name": "stdout",
     "output_type": "stream",
     "text": [
      "The total missing values in this dataset:-  0\n"
     ]
    }
   ],
   "source": [
    "# Check how many missing values in the dataset\n",
    "print(\"The total missing values in this dataset:- \" , len(df[df.isnull().any(axis=1)]))"
   ]
  },
  {
   "cell_type": "code",
   "execution_count": 9,
   "id": "e54c1ddf",
   "metadata": {},
   "outputs": [
    {
     "name": "stdout",
     "output_type": "stream",
     "text": [
      "The total duplicate values in this dataset:-  2437\n"
     ]
    }
   ],
   "source": [
    "# Check how many duplicate values in the dataset\n",
    "print(\"The total duplicate values in this dataset:- \" , df.duplicated().sum())"
   ]
  },
  {
   "cell_type": "code",
   "execution_count": 10,
   "id": "f04ad9bf",
   "metadata": {},
   "outputs": [],
   "source": [
    "# Handling duplicate values\n",
    "# Dropping all duplicate values from the dataset permanently\n",
    "df_unique = df.drop_duplicates()"
   ]
  },
  {
   "cell_type": "code",
   "execution_count": 11,
   "id": "6eacdb45",
   "metadata": {},
   "outputs": [],
   "source": [
    "# Overwrite the original dataframe with the unique one\n",
    "df = df_unique"
   ]
  },
  {
   "cell_type": "code",
   "execution_count": 12,
   "id": "00c09c7d",
   "metadata": {},
   "outputs": [
    {
     "data": {
      "text/plain": [
       "(12152, 18)"
      ]
     },
     "execution_count": 12,
     "metadata": {},
     "output_type": "execute_result"
    }
   ],
   "source": [
    "# Display the shape of the new dataframe to confirm duplicates have been removed\n",
    "df.shape"
   ]
  },
  {
   "cell_type": "markdown",
   "id": "9ec541bd",
   "metadata": {},
   "source": [
    "---------------------------------"
   ]
  },
  {
   "cell_type": "markdown",
   "id": "ce0e65b8",
   "metadata": {},
   "source": [
    "# Checking outliers"
   ]
  },
  {
   "cell_type": "code",
   "execution_count": 13,
   "id": "c5b89144",
   "metadata": {},
   "outputs": [
    {
     "data": {
      "text/plain": [
       "{'Age': 0,\n",
       " 'Height': 69,\n",
       " 'Weight': 0,\n",
       " 'BMI': 107,\n",
       " 'Lower Limmit': 39,\n",
       " 'Upper Limmit': 39,\n",
       " 'Fat Percentage': 37}"
      ]
     },
     "execution_count": 13,
     "metadata": {},
     "output_type": "execute_result"
    }
   ],
   "source": [
    "# Define a function to detect outliers based on the IQR method\n",
    "def detect_outliers_iqr(data, column):\n",
    "    Q1 = data[column].quantile(0.25)\n",
    "    Q3 = data[column].quantile(0.75)\n",
    "    IQR = Q3 - Q1\n",
    "    lower_bound = Q1 - 1.5 * IQR\n",
    "    upper_bound = Q3 + 1.5 * IQR\n",
    "    return df[(df[column] < lower_bound) | (df[column] > upper_bound)].shape[0]\n",
    "\n",
    "# Columns to check for outliers\n",
    "columns_to_check = ['Age', 'Height', 'Weight', 'BMI', 'Lower Limmit', 'Upper Limmit', 'Fat Percentage']\n",
    "\n",
    "# Calculate the number of outliers in each column\n",
    "outliers_count = {column: detect_outliers_iqr(df, column) for column in columns_to_check}\n",
    "outliers_count\n"
   ]
  },
  {
   "cell_type": "markdown",
   "id": "6a0dbbaf",
   "metadata": {},
   "source": [
    "-------------------"
   ]
  },
  {
   "cell_type": "markdown",
   "id": "10ce5256",
   "metadata": {},
   "source": [
    "# Drop All Outliers from dataset"
   ]
  },
  {
   "cell_type": "code",
   "execution_count": 16,
   "id": "690e27f1",
   "metadata": {},
   "outputs": [
    {
     "data": {
      "text/plain": [
       "(11936, 18)"
      ]
     },
     "execution_count": 16,
     "metadata": {},
     "output_type": "execute_result"
    }
   ],
   "source": [
    "# Define a function to remove outliers based on the IQR method for a given column\n",
    "def remove_outliers_iqr(data, column):\n",
    "    Q1 = data[column].quantile(0.25)\n",
    "    Q3 = data[column].quantile(0.75)\n",
    "    IQR = Q3 - Q1\n",
    "    lower_bound = Q1 - 1.5 * IQR\n",
    "    upper_bound = Q3 + 1.5 * IQR\n",
    "    return data[(df[column] >= lower_bound) & (df[column] <= upper_bound)]\n",
    "\n",
    "# Apply the outlier removal for each column individually\n",
    "df = df.copy()\n",
    "for column in columns_to_check:\n",
    "    df = remove_outliers_iqr(df, column)\n",
    "\n",
    "# Check the new shape of the dataset to see how many records remain\n",
    "df.shape"
   ]
  },
  {
   "cell_type": "markdown",
   "id": "364144c3",
   "metadata": {},
   "source": [
    "-------------------"
   ]
  },
  {
   "cell_type": "markdown",
   "id": "4248b31f",
   "metadata": {},
   "source": [
    "### Describtive Statistics"
   ]
  },
  {
   "cell_type": "code",
   "execution_count": 17,
   "id": "5ff10528",
   "metadata": {},
   "outputs": [
    {
     "data": {
      "text/html": [
       "<div>\n",
       "<style scoped>\n",
       "    .dataframe tbody tr th:only-of-type {\n",
       "        vertical-align: middle;\n",
       "    }\n",
       "\n",
       "    .dataframe tbody tr th {\n",
       "        vertical-align: top;\n",
       "    }\n",
       "\n",
       "    .dataframe thead th {\n",
       "        text-align: right;\n",
       "    }\n",
       "</style>\n",
       "<table border=\"1\" class=\"dataframe\">\n",
       "  <thead>\n",
       "    <tr style=\"text-align: right;\">\n",
       "      <th></th>\n",
       "      <th>Age</th>\n",
       "      <th>Height</th>\n",
       "      <th>Weight</th>\n",
       "      <th>BMI</th>\n",
       "      <th>Lower Limmit</th>\n",
       "      <th>Upper Limmit</th>\n",
       "      <th>Fat Percentage</th>\n",
       "    </tr>\n",
       "  </thead>\n",
       "  <tbody>\n",
       "    <tr>\n",
       "      <th>count</th>\n",
       "      <td>11936.000000</td>\n",
       "      <td>11936.00000</td>\n",
       "      <td>11936.000000</td>\n",
       "      <td>11936.000000</td>\n",
       "      <td>11936.000000</td>\n",
       "      <td>11936.000000</td>\n",
       "      <td>11936.000000</td>\n",
       "    </tr>\n",
       "    <tr>\n",
       "      <th>mean</th>\n",
       "      <td>39.372989</td>\n",
       "      <td>1.70165</td>\n",
       "      <td>69.791949</td>\n",
       "      <td>24.079377</td>\n",
       "      <td>53.738145</td>\n",
       "      <td>72.328794</td>\n",
       "      <td>26.057224</td>\n",
       "    </tr>\n",
       "    <tr>\n",
       "      <th>std</th>\n",
       "      <td>13.388718</td>\n",
       "      <td>0.09568</td>\n",
       "      <td>19.614286</td>\n",
       "      <td>6.364667</td>\n",
       "      <td>6.071906</td>\n",
       "      <td>8.171633</td>\n",
       "      <td>9.718803</td>\n",
       "    </tr>\n",
       "    <tr>\n",
       "      <th>min</th>\n",
       "      <td>18.000000</td>\n",
       "      <td>1.48000</td>\n",
       "      <td>32.000000</td>\n",
       "      <td>9.520000</td>\n",
       "      <td>40.520000</td>\n",
       "      <td>54.540000</td>\n",
       "      <td>0.740000</td>\n",
       "    </tr>\n",
       "    <tr>\n",
       "      <th>25%</th>\n",
       "      <td>28.000000</td>\n",
       "      <td>1.64000</td>\n",
       "      <td>54.000000</td>\n",
       "      <td>18.620000</td>\n",
       "      <td>49.760000</td>\n",
       "      <td>66.970000</td>\n",
       "      <td>19.070000</td>\n",
       "    </tr>\n",
       "    <tr>\n",
       "      <th>50%</th>\n",
       "      <td>38.000000</td>\n",
       "      <td>1.68000</td>\n",
       "      <td>69.000000</td>\n",
       "      <td>25.075000</td>\n",
       "      <td>52.210000</td>\n",
       "      <td>70.280000</td>\n",
       "      <td>25.825000</td>\n",
       "    </tr>\n",
       "    <tr>\n",
       "      <th>75%</th>\n",
       "      <td>51.000000</td>\n",
       "      <td>1.77000</td>\n",
       "      <td>85.000000</td>\n",
       "      <td>28.800000</td>\n",
       "      <td>57.960000</td>\n",
       "      <td>78.010000</td>\n",
       "      <td>32.670000</td>\n",
       "    </tr>\n",
       "    <tr>\n",
       "      <th>max</th>\n",
       "      <td>63.000000</td>\n",
       "      <td>1.94000</td>\n",
       "      <td>125.000000</td>\n",
       "      <td>43.820000</td>\n",
       "      <td>69.630000</td>\n",
       "      <td>93.710000</td>\n",
       "      <td>52.890000</td>\n",
       "    </tr>\n",
       "  </tbody>\n",
       "</table>\n",
       "</div>"
      ],
      "text/plain": [
       "                Age       Height        Weight           BMI  Lower Limmit  \\\n",
       "count  11936.000000  11936.00000  11936.000000  11936.000000  11936.000000   \n",
       "mean      39.372989      1.70165     69.791949     24.079377     53.738145   \n",
       "std       13.388718      0.09568     19.614286      6.364667      6.071906   \n",
       "min       18.000000      1.48000     32.000000      9.520000     40.520000   \n",
       "25%       28.000000      1.64000     54.000000     18.620000     49.760000   \n",
       "50%       38.000000      1.68000     69.000000     25.075000     52.210000   \n",
       "75%       51.000000      1.77000     85.000000     28.800000     57.960000   \n",
       "max       63.000000      1.94000    125.000000     43.820000     69.630000   \n",
       "\n",
       "       Upper Limmit  Fat Percentage  \n",
       "count  11936.000000    11936.000000  \n",
       "mean      72.328794       26.057224  \n",
       "std        8.171633        9.718803  \n",
       "min       54.540000        0.740000  \n",
       "25%       66.970000       19.070000  \n",
       "50%       70.280000       25.825000  \n",
       "75%       78.010000       32.670000  \n",
       "max       93.710000       52.890000  "
      ]
     },
     "execution_count": 17,
     "metadata": {},
     "output_type": "execute_result"
    }
   ],
   "source": [
    "df.describe()"
   ]
  },
  {
   "cell_type": "markdown",
   "id": "839217e5",
   "metadata": {},
   "source": [
    "---------------"
   ]
  },
  {
   "cell_type": "markdown",
   "id": "23eb8aa9",
   "metadata": {},
   "source": [
    "### Visualizations for numerical variables using matplotlib "
   ]
  },
  {
   "cell_type": "code",
   "execution_count": 18,
   "id": "2625c614",
   "metadata": {},
   "outputs": [],
   "source": [
    "# Set the aesthetics for the plots\n",
    "sns.set_style(\"whitegrid\")"
   ]
  },
  {
   "cell_type": "code",
   "execution_count": 111,
   "id": "5af68054",
   "metadata": {},
   "outputs": [
    {
     "data": {
      "image/png": "[encoded data removed]",
      "text/plain": [
       "<Figure size 1200x2000 with 10 Axes>"
      ]
     },
     "metadata": {},
     "output_type": "display_data"
    }
   ],
   "source": [
    "# Numerical columns to visualize with histogram and boxplot\n",
    "numerical_columns = ['Age', 'Height', 'Weight', 'BMI', 'Fat Percentage']\n",
    "\n",
    "# Set up the matplotlib figure with specified dimensions\n",
    "fig, axes = plt.subplots(len(numerical_columns), 2, figsize=(12, 4 * len(numerical_columns)))\n",
    "\n",
    "# Loop through each numerical column to create both a histogram and a boxplot\n",
    "for i, col in enumerate(numerical_columns):\n",
    "    sns.histplot(df[col], kde=True, ax=axes[i, 0])\n",
    "    sns.boxplot(x=df[col], ax=axes[i, 1])\n",
    "    \n",
    "    # Set titles for clarity\n",
    "    axes[i, 0].set_title(f'Histogram of {col}')\n",
    "    axes[i, 1].set_title(f'Boxplot of {col}')\n",
    "\n",
    "# Adjust layout for readability\n",
    "plt.tight_layout()\n",
    "plt.show()\n"
   ]
  },
  {
   "cell_type": "code",
   "execution_count": null,
   "id": "135848ce",
   "metadata": {},
   "outputs": [],
   "source": []
  },
  {
   "cell_type": "code",
   "execution_count": 113,
   "id": "31c6bbea",
   "metadata": {},
   "outputs": [
    {
     "data": {
      "image/png": "[encoded data removed]",
      "text/plain": [
       "<Figure size 1200x1500 with 5 Axes>"
      ]
     },
     "metadata": {},
     "output_type": "display_data"
    }
   ],
   "source": [
    "# List of numeric variables for visualization\n",
    "numeric_vars = ['Age', 'Height', 'Weight', 'BMI', 'Fat Percentage']\n",
    "\n",
    "# Define a list of colors for each variable\n",
    "colors = ['skyblue', 'lightcoral', 'lightgreen', 'orange', 'tan']\n",
    "\n",
    "# Set up individual subplots in a single column\n",
    "fig, axes = plt.subplots(nrows=len(numeric_vars), ncols=1, figsize=(12, 3 * len(numeric_vars)))\n",
    "fig.suptitle('Distributions of Numerical Variables', y=1.02)\n",
    "\n",
    "# Plot histograms for each numerical variable with different colors\n",
    "for i, (col, color) in enumerate(zip(numeric_vars, colors)):\n",
    "    ax = axes[i]\n",
    "    ax.hist(df[col], bins=28, color=color, edgecolor='black')\n",
    "    ax.set_title(col)\n",
    "    ax.set_xlabel(col)\n",
    "    ax.set_ylabel('Frequency')\n",
    "\n",
    "# Adjust layout to prevent overlapping\n",
    "plt.tight_layout()\n",
    "\n",
    "# Show the plots\n",
    "plt.show()\n"
   ]
  },
  {
   "cell_type": "markdown",
   "id": "12330ca8",
   "metadata": {},
   "source": [
    "--------------"
   ]
  },
  {
   "cell_type": "markdown",
   "id": "61b33d06",
   "metadata": {},
   "source": [
    "### Visualization Health Condition variables using matplotlib (Pie)"
   ]
  },
  {
   "cell_type": "code",
   "execution_count": 23,
   "id": "ebd1bc9f",
   "metadata": {},
   "outputs": [
    {
     "data": {
      "image/png": "[encoded data removed]",
      "text/plain": [
       "<Figure size 800x600 with 2 Axes>"
      ]
     },
     "metadata": {},
     "output_type": "display_data"
    }
   ],
   "source": [
    "# Adjusting pie chart code with white font color\n",
    "plt.figure(figsize=(8, 6))  # Setting the figure size for better visibility\n",
    "\n",
    "# Pie Chart for Hypertension\n",
    "plt.subplot(1, 2, 1)  # Position for Hypertension pie chart\n",
    "hypertension_counts = df['Hypertension'].value_counts()\n",
    "plt.pie(hypertension_counts, labels=hypertension_counts.index, autopct='%1.1f%%', startangle=140, colors=['lightblue', 'gray'],\n",
    "        textprops={'color':\"black\"})\n",
    "plt.title('Distribution of Hypertension', color='black')\n",
    "\n",
    "# Pie Chart for Diabetes\n",
    "plt.subplot(1, 2, 2)  # Position for Diabetes pie chart\n",
    "diabetes_counts = df['Diabetes'].value_counts()\n",
    "plt.pie(diabetes_counts, labels=diabetes_counts.index, autopct='%1.1f%%', startangle=140, colors=['lightblue', 'salmon'],\n",
    "        textprops={'color':\"black\"})\n",
    "plt.title('Distribution of Diabetes', color='black')\n",
    "\n",
    "# Adjusting the background color for visibility of white text\n",
    "plt.tight_layout()\n",
    "plt.show()"
   ]
  },
  {
   "cell_type": "markdown",
   "id": "80189ea0",
   "metadata": {},
   "source": [
    "----------------"
   ]
  },
  {
   "cell_type": "markdown",
   "id": "beec1d7e",
   "metadata": {},
   "source": [
    "### Visualization Categorical variables using matplotlib (bar chart)"
   ]
  },
  {
   "cell_type": "code",
   "execution_count": 24,
   "id": "02ed0713",
   "metadata": {},
   "outputs": [
    {
     "data": {
      "image/png": "[encoded data removed]",
      "text/plain": [
       "<Figure size 640x480 with 1 Axes>"
      ]
     },
     "metadata": {},
     "output_type": "display_data"
    },
    {
     "data": {
      "image/png": "[encoded data removed]",
      "text/plain": [
       "<Figure size 640x480 with 1 Axes>"
      ]
     },
     "metadata": {},
     "output_type": "display_data"
    },
    {
     "data": {
      "image/png": "[encoded data removed]",
      "text/plain": [
       "<Figure size 640x480 with 1 Axes>"
      ]
     },
     "metadata": {},
     "output_type": "display_data"
    },
    {
     "data": {
      "image/png": "[encoded data removed]",
      "text/plain": [
       "<Figure size 640x480 with 1 Axes>"
      ]
     },
     "metadata": {},
     "output_type": "display_data"
    }
   ],
   "source": [
    "# List of categorical variables for visualization, excluding Hypertension and Diabetes\n",
    "categorical_vars = df[['Sex', 'Level', 'Fitness Goal', 'Fitness Type']]\n",
    "for i, predictor in enumerate(categorical_vars):\n",
    "    plt.figure(i)\n",
    "    sns.countplot(data=df, x=predictor)"
   ]
  },
  {
   "cell_type": "code",
   "execution_count": null,
   "id": "af062988",
   "metadata": {},
   "outputs": [],
   "source": []
  },
  {
   "cell_type": "markdown",
   "id": "3bdc2226",
   "metadata": {},
   "source": [
    "-------------------"
   ]
  },
  {
   "cell_type": "markdown",
   "id": "99b7952c",
   "metadata": {},
   "source": [
    "### Convert Categorical Variables (Sex, Hypertension, Diabetes) into dummy variables using LabelEncoder() and drop the original"
   ]
  },
  {
   "cell_type": "code",
   "execution_count": 25,
   "id": "28ea6b6a",
   "metadata": {},
   "outputs": [],
   "source": [
    "lbl=LabelEncoder()\n",
    "df.loc[:,'sex'] = lbl.fit_transform(df['Sex'])\n",
    "df.loc[:,'hypertension'] = lbl.fit_transform(df['Hypertension'])\n",
    "df.loc[:,'diabetes'] = lbl.fit_transform(df['Diabetes'])"
   ]
  },
  {
   "cell_type": "code",
   "execution_count": 26,
   "id": "1fe12706",
   "metadata": {},
   "outputs": [
    {
     "data": {
      "text/html": [
       "<div>\n",
       "<style scoped>\n",
       "    .dataframe tbody tr th:only-of-type {\n",
       "        vertical-align: middle;\n",
       "    }\n",
       "\n",
       "    .dataframe tbody tr th {\n",
       "        vertical-align: top;\n",
       "    }\n",
       "\n",
       "    .dataframe thead th {\n",
       "        text-align: right;\n",
       "    }\n",
       "</style>\n",
       "<table border=\"1\" class=\"dataframe\">\n",
       "  <thead>\n",
       "    <tr style=\"text-align: right;\">\n",
       "      <th></th>\n",
       "      <th>Sex</th>\n",
       "      <th>Age</th>\n",
       "      <th>Height</th>\n",
       "      <th>Weight</th>\n",
       "      <th>Hypertension</th>\n",
       "      <th>Diabetes</th>\n",
       "      <th>BMI</th>\n",
       "      <th>Level</th>\n",
       "      <th>Lower Limmit</th>\n",
       "      <th>Upper Limmit</th>\n",
       "      <th>...</th>\n",
       "      <th>Fat Percentage</th>\n",
       "      <th>Fitness Goal</th>\n",
       "      <th>Fitness Type</th>\n",
       "      <th>Exercises</th>\n",
       "      <th>Equipment Required</th>\n",
       "      <th>Diet</th>\n",
       "      <th>Conclusion Recommendation</th>\n",
       "      <th>sex</th>\n",
       "      <th>hypertension</th>\n",
       "      <th>diabetes</th>\n",
       "    </tr>\n",
       "  </thead>\n",
       "  <tbody>\n",
       "    <tr>\n",
       "      <th>0</th>\n",
       "      <td>Male</td>\n",
       "      <td>18</td>\n",
       "      <td>1.68</td>\n",
       "      <td>47.5</td>\n",
       "      <td>No</td>\n",
       "      <td>No</td>\n",
       "      <td>16.83</td>\n",
       "      <td>Underweight</td>\n",
       "      <td>52.21</td>\n",
       "      <td>70.28</td>\n",
       "      <td>...</td>\n",
       "      <td>8.14</td>\n",
       "      <td>Weight Gain</td>\n",
       "      <td>Muscular Fitness</td>\n",
       "      <td>Squats, deadlifts, bench presses, and overhead...</td>\n",
       "      <td>Dumbbells and barbells</td>\n",
       "      <td>Vegetables: (Carrots, Sweet Potato, and Lettuc...</td>\n",
       "      <td>Follow a regular exercise schedule. Adhere to ...</td>\n",
       "      <td>1</td>\n",
       "      <td>0</td>\n",
       "      <td>0</td>\n",
       "    </tr>\n",
       "    <tr>\n",
       "      <th>1</th>\n",
       "      <td>Male</td>\n",
       "      <td>18</td>\n",
       "      <td>1.68</td>\n",
       "      <td>47.5</td>\n",
       "      <td>Yes</td>\n",
       "      <td>No</td>\n",
       "      <td>16.83</td>\n",
       "      <td>Underweight</td>\n",
       "      <td>52.21</td>\n",
       "      <td>70.28</td>\n",
       "      <td>...</td>\n",
       "      <td>8.14</td>\n",
       "      <td>Weight Gain</td>\n",
       "      <td>Muscular Fitness</td>\n",
       "      <td>Squats, deadlifts, bench presses, and overhead...</td>\n",
       "      <td>Light athletic shoes, resistance bands, and li...</td>\n",
       "      <td>Vegetables: (Tomatoes, Garlic, leafy greens, b...</td>\n",
       "      <td>Follow a regular exercise schedule. Adhere to ...</td>\n",
       "      <td>1</td>\n",
       "      <td>1</td>\n",
       "      <td>0</td>\n",
       "    </tr>\n",
       "  </tbody>\n",
       "</table>\n",
       "<p>2 rows × 21 columns</p>\n",
       "</div>"
      ],
      "text/plain": [
       "    Sex  Age  Height  Weight Hypertension Diabetes    BMI        Level  \\\n",
       "0  Male   18    1.68    47.5           No       No  16.83  Underweight   \n",
       "1  Male   18    1.68    47.5          Yes       No  16.83  Underweight   \n",
       "\n",
       "   Lower Limmit  Upper Limmit  ... Fat Percentage  Fitness Goal  \\\n",
       "0         52.21         70.28  ...           8.14   Weight Gain   \n",
       "1         52.21         70.28  ...           8.14   Weight Gain   \n",
       "\n",
       "       Fitness Type                                          Exercises  \\\n",
       "0  Muscular Fitness  Squats, deadlifts, bench presses, and overhead...   \n",
       "1  Muscular Fitness  Squats, deadlifts, bench presses, and overhead...   \n",
       "\n",
       "                                  Equipment Required  \\\n",
       "0                             Dumbbells and barbells   \n",
       "1  Light athletic shoes, resistance bands, and li...   \n",
       "\n",
       "                                                Diet  \\\n",
       "0  Vegetables: (Carrots, Sweet Potato, and Lettuc...   \n",
       "1  Vegetables: (Tomatoes, Garlic, leafy greens, b...   \n",
       "\n",
       "                           Conclusion Recommendation sex  hypertension  \\\n",
       "0  Follow a regular exercise schedule. Adhere to ...   1             0   \n",
       "1  Follow a regular exercise schedule. Adhere to ...   1             1   \n",
       "\n",
       "   diabetes  \n",
       "0         0  \n",
       "1         0  \n",
       "\n",
       "[2 rows x 21 columns]"
      ]
     },
     "execution_count": 26,
     "metadata": {},
     "output_type": "execute_result"
    }
   ],
   "source": [
    "df.head(2)"
   ]
  },
  {
   "cell_type": "markdown",
   "id": "9da771f2",
   "metadata": {},
   "source": [
    "------------------------"
   ]
  },
  {
   "cell_type": "markdown",
   "id": "3b46381a",
   "metadata": {},
   "source": [
    "### Drop (Sex, Hypertension, Diabetes) Variables "
   ]
  },
  {
   "cell_type": "code",
   "execution_count": 27,
   "id": "9101a234",
   "metadata": {},
   "outputs": [],
   "source": [
    "df.drop('Sex', axis=1, inplace=True)\n",
    "df.drop('Hypertension', axis=1, inplace=True)\n",
    "df.drop('Diabetes', axis=1, inplace=True)"
   ]
  },
  {
   "cell_type": "markdown",
   "id": "3009a977",
   "metadata": {},
   "source": [
    "----------------------"
   ]
  },
  {
   "cell_type": "markdown",
   "id": "d5b56f4c",
   "metadata": {},
   "source": [
    "# Building a RandomForestClassifier model for Categorical Variables"
   ]
  },
  {
   "cell_type": "code",
   "execution_count": 115,
   "id": "3fbdb4c0",
   "metadata": {},
   "outputs": [],
   "source": [
    "# Separate features (X) and target variable (y)\n",
    "#display values, of dependant variable and indepentd\n",
    "X = df[['sex','Age','Height', 'Weight','hypertension','diabetes']].values\n",
    "y = df[['Level','Fitness Goal', 'Fitness Type', 'Exercises', 'Equipment Required', 'Diet','Conclusion Recommendation']].values"
   ]
  },
  {
   "cell_type": "code",
   "execution_count": 116,
   "id": "ce3c6a8f",
   "metadata": {},
   "outputs": [],
   "source": [
    "# Split the data into training and testing sets\n",
    "X_train, X_test, y_train, y_test = train_test_split(X, y, test_size=0.3)"
   ]
  },
  {
   "cell_type": "code",
   "execution_count": 117,
   "id": "7421c826",
   "metadata": {},
   "outputs": [],
   "source": [
    "# Create a RandomFores tree model\n",
    "#random_forest_model = RandomForestRegressor()\n",
    "random_forest_model =  MultiOutputClassifier(RandomForestClassifier(n_estimators=7,random_state=100))"
   ]
  },
  {
   "cell_type": "code",
   "execution_count": 118,
   "id": "ee802e2d",
   "metadata": {},
   "outputs": [
    {
     "data": {
      "text/html": [
       "<style>#sk-container-id-5 {\n",
       "  /* Definition of color scheme common for light and dark mode */\n",
       "  --sklearn-color-text: black;\n",
       "  --sklearn-color-line: gray;\n",
       "  /* Definition of color scheme for unfitted estimators */\n",
       "  --sklearn-color-unfitted-level-0: #fff5e6;\n",
       "  --sklearn-color-unfitted-level-1: #f6e4d2;\n",
       "  --sklearn-color-unfitted-level-2: #ffe0b3;\n",
       "  --sklearn-color-unfitted-level-3: chocolate;\n",
       "  /* Definition of color scheme for fitted estimators */\n",
       "  --sklearn-color-fitted-level-0: #f0f8ff;\n",
       "  --sklearn-color-fitted-level-1: #d4ebff;\n",
       "  --sklearn-color-fitted-level-2: #b3dbfd;\n",
       "  --sklearn-color-fitted-level-3: cornflowerblue;\n",
       "\n",
       "  /* Specific color for light theme */\n",
       "  --sklearn-color-text-on-default-background: var(--sg-text-color, var(--theme-code-foreground, var(--jp-content-font-color1, black)));\n",
       "  --sklearn-color-background: var(--sg-background-color, var(--theme-background, var(--jp-layout-color0, white)));\n",
       "  --sklearn-color-border-box: var(--sg-text-color, var(--theme-code-foreground, var(--jp-content-font-color1, black)));\n",
       "  --sklearn-color-icon: #696969;\n",
       "\n",
       "  @media (prefers-color-scheme: dark) {\n",
       "    /* Redefinition of color scheme for dark theme */\n",
       "    --sklearn-color-text-on-default-background: var(--sg-text-color, var(--theme-code-foreground, var(--jp-content-font-color1, white)));\n",
       "    --sklearn-color-background: var(--sg-background-color, var(--theme-background, var(--jp-layout-color0, #111)));\n",
       "    --sklearn-color-border-box: var(--sg-text-color, var(--theme-code-foreground, var(--jp-content-font-color1, white)));\n",
       "    --sklearn-color-icon: #878787;\n",
       "  }\n",
       "}\n",
       "\n",
       "#sk-container-id-5 {\n",
       "  color: var(--sklearn-color-text);\n",
       "}\n",
       "\n",
       "#sk-container-id-5 pre {\n",
       "  padding: 0;\n",
       "}\n",
       "\n",
       "#sk-container-id-5 input.sk-hidden--visually {\n",
       "  border: 0;\n",
       "  clip: rect(1px 1px 1px 1px);\n",
       "  clip: rect(1px, 1px, 1px, 1px);\n",
       "  height: 1px;\n",
       "  margin: -1px;\n",
       "  overflow: hidden;\n",
       "  padding: 0;\n",
       "  position: absolute;\n",
       "  width: 1px;\n",
       "}\n",
       "\n",
       "#sk-container-id-5 div.sk-dashed-wrapped {\n",
       "  border: 1px dashed var(--sklearn-color-line);\n",
       "  margin: 0 0.4em 0.5em 0.4em;\n",
       "  box-sizing: border-box;\n",
       "  padding-bottom: 0.4em;\n",
       "  background-color: var(--sklearn-color-background);\n",
       "}\n",
       "\n",
       "#sk-container-id-5 div.sk-container {\n",
       "  /* jupyter's `normalize.less` sets `[hidden] { display: none; }`\n",
       "     but bootstrap.min.css set `[hidden] { display: none !important; }`\n",
       "     so we also need the `!important` here to be able to override the\n",
       "     default hidden behavior on the sphinx rendered scikit-learn.org.\n",
       "     See: https://github.com/scikit-learn/scikit-learn/issues/21755 */\n",
       "  display: inline-block !important;\n",
       "  position: relative;\n",
       "}\n",
       "\n",
       "#sk-container-id-5 div.sk-text-repr-fallback {\n",
       "  display: none;\n",
       "}\n",
       "\n",
       "div.sk-parallel-item,\n",
       "div.sk-serial,\n",
       "div.sk-item {\n",
       "  /* draw centered vertical line to link estimators */\n",
       "  background-image: linear-gradient(var(--sklearn-color-text-on-default-background), var(--sklearn-color-text-on-default-background));\n",
       "  background-size: 2px 100%;\n",
       "  background-repeat: no-repeat;\n",
       "  background-position: center center;\n",
       "}\n",
       "\n",
       "/* Parallel-specific style estimator block */\n",
       "\n",
       "#sk-container-id-5 div.sk-parallel-item::after {\n",
       "  content: \"\";\n",
       "  width: 100%;\n",
       "  border-bottom: 2px solid var(--sklearn-color-text-on-default-background);\n",
       "  flex-grow: 1;\n",
       "}\n",
       "\n",
       "#sk-container-id-5 div.sk-parallel {\n",
       "  display: flex;\n",
       "  align-items: stretch;\n",
       "  justify-content: center;\n",
       "  background-color: var(--sklearn-color-background);\n",
       "  position: relative;\n",
       "}\n",
       "\n",
       "#sk-container-id-5 div.sk-parallel-item {\n",
       "  display: flex;\n",
       "  flex-direction: column;\n",
       "}\n",
       "\n",
       "#sk-container-id-5 div.sk-parallel-item:first-child::after {\n",
       "  align-self: flex-end;\n",
       "  width: 50%;\n",
       "}\n",
       "\n",
       "#sk-container-id-5 div.sk-parallel-item:last-child::after {\n",
       "  align-self: flex-start;\n",
       "  width: 50%;\n",
       "}\n",
       "\n",
       "#sk-container-id-5 div.sk-parallel-item:only-child::after {\n",
       "  width: 0;\n",
       "}\n",
       "\n",
       "/* Serial-specific style estimator block */\n",
       "\n",
       "#sk-container-id-5 div.sk-serial {\n",
       "  display: flex;\n",
       "  flex-direction: column;\n",
       "  align-items: center;\n",
       "  background-color: var(--sklearn-color-background);\n",
       "  padding-right: 1em;\n",
       "  padding-left: 1em;\n",
       "}\n",
       "\n",
       "\n",
       "/* Toggleable style: style used for estimator/Pipeline/ColumnTransformer box that is\n",
       "clickable and can be expanded/collapsed.\n",
       "- Pipeline and ColumnTransformer use this feature and define the default style\n",
       "- Estimators will overwrite some part of the style using the `sk-estimator` class\n",
       "*/\n",
       "\n",
       "/* Pipeline and ColumnTransformer style (default) */\n",
       "\n",
       "#sk-container-id-5 div.sk-toggleable {\n",
       "  /* Default theme specific background. It is overwritten whether we have a\n",
       "  specific estimator or a Pipeline/ColumnTransformer */\n",
       "  background-color: var(--sklearn-color-background);\n",
       "}\n",
       "\n",
       "/* Toggleable label */\n",
       "#sk-container-id-5 label.sk-toggleable__label {\n",
       "  cursor: pointer;\n",
       "  display: block;\n",
       "  width: 100%;\n",
       "  margin-bottom: 0;\n",
       "  padding: 0.5em;\n",
       "  box-sizing: border-box;\n",
       "  text-align: center;\n",
       "}\n",
       "\n",
       "#sk-container-id-5 label.sk-toggleable__label-arrow:before {\n",
       "  /* Arrow on the left of the label */\n",
       "  content: \"▸\";\n",
       "  float: left;\n",
       "  margin-right: 0.25em;\n",
       "  color: var(--sklearn-color-icon);\n",
       "}\n",
       "\n",
       "#sk-container-id-5 label.sk-toggleable__label-arrow:hover:before {\n",
       "  color: var(--sklearn-color-text);\n",
       "}\n",
       "\n",
       "/* Toggleable content - dropdown */\n",
       "\n",
       "#sk-container-id-5 div.sk-toggleable__content {\n",
       "  max-height: 0;\n",
       "  max-width: 0;\n",
       "  overflow: hidden;\n",
       "  text-align: left;\n",
       "  /* unfitted */\n",
       "  background-color: var(--sklearn-color-unfitted-level-0);\n",
       "}\n",
       "\n",
       "#sk-container-id-5 div.sk-toggleable__content.fitted {\n",
       "  /* fitted */\n",
       "  background-color: var(--sklearn-color-fitted-level-0);\n",
       "}\n",
       "\n",
       "#sk-container-id-5 div.sk-toggleable__content pre {\n",
       "  margin: 0.2em;\n",
       "  border-radius: 0.25em;\n",
       "  color: var(--sklearn-color-text);\n",
       "  /* unfitted */\n",
       "  background-color: var(--sklearn-color-unfitted-level-0);\n",
       "}\n",
       "\n",
       "#sk-container-id-5 div.sk-toggleable__content.fitted pre {\n",
       "  /* unfitted */\n",
       "  background-color: var(--sklearn-color-fitted-level-0);\n",
       "}\n",
       "\n",
       "#sk-container-id-5 input.sk-toggleable__control:checked~div.sk-toggleable__content {\n",
       "  /* Expand drop-down */\n",
       "  max-height: 200px;\n",
       "  max-width: 100%;\n",
       "  overflow: auto;\n",
       "}\n",
       "\n",
       "#sk-container-id-5 input.sk-toggleable__control:checked~label.sk-toggleable__label-arrow:before {\n",
       "  content: \"▾\";\n",
       "}\n",
       "\n",
       "/* Pipeline/ColumnTransformer-specific style */\n",
       "\n",
       "#sk-container-id-5 div.sk-label input.sk-toggleable__control:checked~label.sk-toggleable__label {\n",
       "  color: var(--sklearn-color-text);\n",
       "  background-color: var(--sklearn-color-unfitted-level-2);\n",
       "}\n",
       "\n",
       "#sk-container-id-5 div.sk-label.fitted input.sk-toggleable__control:checked~label.sk-toggleable__label {\n",
       "  background-color: var(--sklearn-color-fitted-level-2);\n",
       "}\n",
       "\n",
       "/* Estimator-specific style */\n",
       "\n",
       "/* Colorize estimator box */\n",
       "#sk-container-id-5 div.sk-estimator input.sk-toggleable__control:checked~label.sk-toggleable__label {\n",
       "  /* unfitted */\n",
       "  background-color: var(--sklearn-color-unfitted-level-2);\n",
       "}\n",
       "\n",
       "#sk-container-id-5 div.sk-estimator.fitted input.sk-toggleable__control:checked~label.sk-toggleable__label {\n",
       "  /* fitted */\n",
       "  background-color: var(--sklearn-color-fitted-level-2);\n",
       "}\n",
       "\n",
       "#sk-container-id-5 div.sk-label label.sk-toggleable__label,\n",
       "#sk-container-id-5 div.sk-label label {\n",
       "  /* The background is the default theme color */\n",
       "  color: var(--sklearn-color-text-on-default-background);\n",
       "}\n",
       "\n",
       "/* On hover, darken the color of the background */\n",
       "#sk-container-id-5 div.sk-label:hover label.sk-toggleable__label {\n",
       "  color: var(--sklearn-color-text);\n",
       "  background-color: var(--sklearn-color-unfitted-level-2);\n",
       "}\n",
       "\n",
       "/* Label box, darken color on hover, fitted */\n",
       "#sk-container-id-5 div.sk-label.fitted:hover label.sk-toggleable__label.fitted {\n",
       "  color: var(--sklearn-color-text);\n",
       "  background-color: var(--sklearn-color-fitted-level-2);\n",
       "}\n",
       "\n",
       "/* Estimator label */\n",
       "\n",
       "#sk-container-id-5 div.sk-label label {\n",
       "  font-family: monospace;\n",
       "  font-weight: bold;\n",
       "  display: inline-block;\n",
       "  line-height: 1.2em;\n",
       "}\n",
       "\n",
       "#sk-container-id-5 div.sk-label-container {\n",
       "  text-align: center;\n",
       "}\n",
       "\n",
       "/* Estimator-specific */\n",
       "#sk-container-id-5 div.sk-estimator {\n",
       "  font-family: monospace;\n",
       "  border: 1px dotted var(--sklearn-color-border-box);\n",
       "  border-radius: 0.25em;\n",
       "  box-sizing: border-box;\n",
       "  margin-bottom: 0.5em;\n",
       "  /* unfitted */\n",
       "  background-color: var(--sklearn-color-unfitted-level-0);\n",
       "}\n",
       "\n",
       "#sk-container-id-5 div.sk-estimator.fitted {\n",
       "  /* fitted */\n",
       "  background-color: var(--sklearn-color-fitted-level-0);\n",
       "}\n",
       "\n",
       "/* on hover */\n",
       "#sk-container-id-5 div.sk-estimator:hover {\n",
       "  /* unfitted */\n",
       "  background-color: var(--sklearn-color-unfitted-level-2);\n",
       "}\n",
       "\n",
       "#sk-container-id-5 div.sk-estimator.fitted:hover {\n",
       "  /* fitted */\n",
       "  background-color: var(--sklearn-color-fitted-level-2);\n",
       "}\n",
       "\n",
       "/* Specification for estimator info (e.g. \"i\" and \"?\") */\n",
       "\n",
       "/* Common style for \"i\" and \"?\" */\n",
       "\n",
       ".sk-estimator-doc-link,\n",
       "a:link.sk-estimator-doc-link,\n",
       "a:visited.sk-estimator-doc-link {\n",
       "  float: right;\n",
       "  font-size: smaller;\n",
       "  line-height: 1em;\n",
       "  font-family: monospace;\n",
       "  background-color: var(--sklearn-color-background);\n",
       "  border-radius: 1em;\n",
       "  height: 1em;\n",
       "  width: 1em;\n",
       "  text-decoration: none !important;\n",
       "  margin-left: 1ex;\n",
       "  /* unfitted */\n",
       "  border: var(--sklearn-color-unfitted-level-1) 1pt solid;\n",
       "  color: var(--sklearn-color-unfitted-level-1);\n",
       "}\n",
       "\n",
       ".sk-estimator-doc-link.fitted,\n",
       "a:link.sk-estimator-doc-link.fitted,\n",
       "a:visited.sk-estimator-doc-link.fitted {\n",
       "  /* fitted */\n",
       "  border: var(--sklearn-color-fitted-level-1) 1pt solid;\n",
       "  color: var(--sklearn-color-fitted-level-1);\n",
       "}\n",
       "\n",
       "/* On hover */\n",
       "div.sk-estimator:hover .sk-estimator-doc-link:hover,\n",
       ".sk-estimator-doc-link:hover,\n",
       "div.sk-label-container:hover .sk-estimator-doc-link:hover,\n",
       ".sk-estimator-doc-link:hover {\n",
       "  /* unfitted */\n",
       "  background-color: var(--sklearn-color-unfitted-level-3);\n",
       "  color: var(--sklearn-color-background);\n",
       "  text-decoration: none;\n",
       "}\n",
       "\n",
       "div.sk-estimator.fitted:hover .sk-estimator-doc-link.fitted:hover,\n",
       ".sk-estimator-doc-link.fitted:hover,\n",
       "div.sk-label-container:hover .sk-estimator-doc-link.fitted:hover,\n",
       ".sk-estimator-doc-link.fitted:hover {\n",
       "  /* fitted */\n",
       "  background-color: var(--sklearn-color-fitted-level-3);\n",
       "  color: var(--sklearn-color-background);\n",
       "  text-decoration: none;\n",
       "}\n",
       "\n",
       "/* Span, style for the box shown on hovering the info icon */\n",
       ".sk-estimator-doc-link span {\n",
       "  display: none;\n",
       "  z-index: 9999;\n",
       "  position: relative;\n",
       "  font-weight: normal;\n",
       "  right: .2ex;\n",
       "  padding: .5ex;\n",
       "  margin: .5ex;\n",
       "  width: min-content;\n",
       "  min-width: 20ex;\n",
       "  max-width: 50ex;\n",
       "  color: var(--sklearn-color-text);\n",
       "  box-shadow: 2pt 2pt 4pt #999;\n",
       "  /* unfitted */\n",
       "  background: var(--sklearn-color-unfitted-level-0);\n",
       "  border: .5pt solid var(--sklearn-color-unfitted-level-3);\n",
       "}\n",
       "\n",
       ".sk-estimator-doc-link.fitted span {\n",
       "  /* fitted */\n",
       "  background: var(--sklearn-color-fitted-level-0);\n",
       "  border: var(--sklearn-color-fitted-level-3);\n",
       "}\n",
       "\n",
       ".sk-estimator-doc-link:hover span {\n",
       "  display: block;\n",
       "}\n",
       "\n",
       "/* \"?\"-specific style due to the `<a>` HTML tag */\n",
       "\n",
       "#sk-container-id-5 a.estimator_doc_link {\n",
       "  float: right;\n",
       "  font-size: 1rem;\n",
       "  line-height: 1em;\n",
       "  font-family: monospace;\n",
       "  background-color: var(--sklearn-color-background);\n",
       "  border-radius: 1rem;\n",
       "  height: 1rem;\n",
       "  width: 1rem;\n",
       "  text-decoration: none;\n",
       "  /* unfitted */\n",
       "  color: var(--sklearn-color-unfitted-level-1);\n",
       "  border: var(--sklearn-color-unfitted-level-1) 1pt solid;\n",
       "}\n",
       "\n",
       "#sk-container-id-5 a.estimator_doc_link.fitted {\n",
       "  /* fitted */\n",
       "  border: var(--sklearn-color-fitted-level-1) 1pt solid;\n",
       "  color: var(--sklearn-color-fitted-level-1);\n",
       "}\n",
       "\n",
       "/* On hover */\n",
       "#sk-container-id-5 a.estimator_doc_link:hover {\n",
       "  /* unfitted */\n",
       "  background-color: var(--sklearn-color-unfitted-level-3);\n",
       "  color: var(--sklearn-color-background);\n",
       "  text-decoration: none;\n",
       "}\n",
       "\n",
       "#sk-container-id-5 a.estimator_doc_link.fitted:hover {\n",
       "  /* fitted */\n",
       "  background-color: var(--sklearn-color-fitted-level-3);\n",
       "}\n",
       "</style><div id=\"sk-container-id-5\" class=\"sk-top-container\"><div class=\"sk-text-repr-fallback\"><pre>MultiOutputClassifier(estimator=RandomForestClassifier(n_estimators=7,\n",
       "                                                       random_state=100))</pre><b>In a Jupyter environment, please rerun this cell to show the HTML representation or trust the notebook. <br />On GitHub, the HTML representation is unable to render, please try loading this page with nbviewer.org.</b></div><div class=\"sk-container\" hidden><div class=\"sk-item sk-dashed-wrapped\"><div class=\"sk-label-container\"><div class=\"sk-label fitted sk-toggleable\"><input class=\"sk-toggleable__control sk-hidden--visually\" id=\"sk-estimator-id-13\" type=\"checkbox\" ><label for=\"sk-estimator-id-13\" class=\"sk-toggleable__label fitted sk-toggleable__label-arrow fitted\">&nbsp;&nbsp;MultiOutputClassifier<a class=\"sk-estimator-doc-link fitted\" rel=\"noreferrer\" target=\"_blank\" href=\"https://scikit-learn.org/1.4/modules/generated/sklearn.multioutput.MultiOutputClassifier.html\">?<span>Documentation for MultiOutputClassifier</span></a><span class=\"sk-estimator-doc-link fitted\">i<span>Fitted</span></span></label><div class=\"sk-toggleable__content fitted\"><pre>MultiOutputClassifier(estimator=RandomForestClassifier(n_estimators=7,\n",
       "                                                       random_state=100))</pre></div> </div></div><div class=\"sk-parallel\"><div class=\"sk-parallel-item\"><div class=\"sk-item\"><div class=\"sk-label-container\"><div class=\"sk-label fitted sk-toggleable\"><input class=\"sk-toggleable__control sk-hidden--visually\" id=\"sk-estimator-id-14\" type=\"checkbox\" ><label for=\"sk-estimator-id-14\" class=\"sk-toggleable__label fitted sk-toggleable__label-arrow fitted\">estimator: RandomForestClassifier</label><div class=\"sk-toggleable__content fitted\"><pre>RandomForestClassifier(n_estimators=7, random_state=100)</pre></div> </div></div><div class=\"sk-serial\"><div class=\"sk-item\"><div class=\"sk-estimator fitted sk-toggleable\"><input class=\"sk-toggleable__control sk-hidden--visually\" id=\"sk-estimator-id-15\" type=\"checkbox\" ><label for=\"sk-estimator-id-15\" class=\"sk-toggleable__label fitted sk-toggleable__label-arrow fitted\">&nbsp;RandomForestClassifier<a class=\"sk-estimator-doc-link fitted\" rel=\"noreferrer\" target=\"_blank\" href=\"https://scikit-learn.org/1.4/modules/generated/sklearn.ensemble.RandomForestClassifier.html\">?<span>Documentation for RandomForestClassifier</span></a></label><div class=\"sk-toggleable__content fitted\"><pre>RandomForestClassifier(n_estimators=7, random_state=100)</pre></div> </div></div></div></div></div></div></div></div></div>"
      ],
      "text/plain": [
       "MultiOutputClassifier(estimator=RandomForestClassifier(n_estimators=7,\n",
       "                                                       random_state=100))"
      ]
     },
     "execution_count": 118,
     "metadata": {},
     "output_type": "execute_result"
    }
   ],
   "source": [
    "# Fit the model on the training data\n",
    "random_forest_model.fit(X_train, y_train)"
   ]
  },
  {
   "cell_type": "code",
   "execution_count": 119,
   "id": "1e996e3b",
   "metadata": {},
   "outputs": [
    {
     "name": "stdout",
     "output_type": "stream",
     "text": [
      "Random Forest Training Accuracy:  0.982884500299222\n",
      "Random Forest Testing Accuracy:  0.8567439262775761\n"
     ]
    }
   ],
   "source": [
    "print(\"Random Forest Training Accuracy: \", random_forest_model.score(X_train,y_train))\n",
    "x_pred = random_forest_model.predict(X_test)\n",
    "y_pred = random_forest_model.predict(X_train)\n",
    "print(\"Random Forest Testing Accuracy: \",random_forest_model.score(X_test, y_test))"
   ]
  },
  {
   "cell_type": "code",
   "execution_count": 120,
   "id": "58f3b139",
   "metadata": {},
   "outputs": [
    {
     "name": "stdout",
     "output_type": "stream",
     "text": [
      "[['Underweight' 'Weight Gain' 'Muscular Fitness'\n",
      "  'Squats, deadlifts, bench presses, and overhead presses'\n",
      "  'Dumbbells and barbells'\n",
      "  'Vegetables: (Carrots, Sweet Potato, and Lettuce); Protein Intake: (Red meats, poultry, fish, eggs, dairy products, legumes, and nuts); Juice: (Fruit juice, watermelon juice, carrot juice, apple juice and mango juice)'\n",
      "  \"Follow a regular exercise schedule. Adhere to the exercise and diet plan to get better results. It is important to approach weight gain in a healthy and balanced way, focusing on both exercise and nutrition. Keep in mind that weight gain should be gradual and focused on building lean muscle rather than increasing fat. Additionally, it's always a good idea to consult with a health care professional or registered dietitian before making any significant changes to your exercise or diet plan. Here are some important tips:- Stay hydrated by drinking enough water throughout the day. Monitor your progress and adjust your diet and exercise routine accordingly. Get adequate sleep to support muscle recovery and overall health. Always monitor your situation, and consult your personal doctor or a professional counselor.\"]]\n",
      "\n",
      "==========================================================\n"
     ]
    }
   ],
   "source": [
    "# Features\n",
    "feature__random_forest_test = np.array([[1,18, 1.68,47.5,0,0]])\n",
    "result_random_forest = random_forest_model.predict(feature__random_forest_test)\n",
    "\n",
    "print(result_random_forest)\n",
    "print()\n",
    "print(\"==========================================================\")\n"
   ]
  },
  {
   "cell_type": "code",
   "execution_count": 121,
   "id": "84aa95b1",
   "metadata": {},
   "outputs": [],
   "source": [
    "# prediction_random_forest = random_forest_model.predict(X_test)"
   ]
  },
  {
   "cell_type": "code",
   "execution_count": 122,
   "id": "61991ef7",
   "metadata": {},
   "outputs": [],
   "source": [
    "# plt.scatter(y_test,prediction_random_forest)"
   ]
  },
  {
   "cell_type": "code",
   "execution_count": null,
   "id": "d6c42715",
   "metadata": {},
   "outputs": [],
   "source": []
  },
  {
   "cell_type": "code",
   "execution_count": 123,
   "id": "6263cb7c",
   "metadata": {},
   "outputs": [
    {
     "name": "stdout",
     "output_type": "stream",
     "text": [
      "0.980310012568077\n",
      "0.8572026800670016\n"
     ]
    }
   ],
   "source": [
    "sm = SMOTEENN()\n",
    "X_rf = df[['sex', 'Age', 'Height', 'Weight', 'hypertension', 'diabetes']].values\n",
    "y_rf = df[['Level', 'Fitness Goal', 'Fitness Type', 'Exercises', 'Equipment Required', 'Diet', 'Conclusion Recommendation']].values\n",
    "\n",
    "# Splitting dataset\n",
    "xr_train, xr_test, yr_train, yr_test = train_test_split(X_rf, y_rf, test_size=0.2, random_state=100)\n",
    "\n",
    "# Setting up and training the MultiOutputClassifier with RandomForest\n",
    "model_rf_smote = MultiOutputClassifier(RandomForestClassifier(n_estimators=7, random_state=42))\n",
    "model_rf_smote.fit(xr_train, yr_train)\n",
    "\n",
    "# Prediction\n",
    "yr_predict = model_rf_smote.predict(xr_test)\n",
    "\n",
    "# Evaluation\n",
    "model_score_training = model_rf_smote.score(xr_train, yr_train)\n",
    "model_score_testing = model_rf_smote.score(xr_test, yr_test)\n",
    "print(model_score_training)\n",
    "print(model_score_testing)\n",
    "# print(classification_report(yr_test, yr_predict))"
   ]
  },
  {
   "cell_type": "code",
   "execution_count": 124,
   "id": "4cdf8959",
   "metadata": {},
   "outputs": [],
   "source": [
    "from sklearn.ensemble import RandomForestClassifier\n",
    "from sklearn.model_selection import train_test_split\n",
    "from sklearn.metrics import accuracy_score\n",
    "from sklearn.preprocessing import LabelEncoder"
   ]
  },
  {
   "cell_type": "code",
   "execution_count": null,
   "id": "413c7250",
   "metadata": {},
   "outputs": [],
   "source": []
  },
  {
   "cell_type": "markdown",
   "id": "1a2a3bdb",
   "metadata": {},
   "source": [
    "----------------------------"
   ]
  },
  {
   "cell_type": "markdown",
   "id": "52b750c5",
   "metadata": {},
   "source": [
    "# Building a RondomForestRegressor for Numerical"
   ]
  },
  {
   "cell_type": "code",
   "execution_count": 199,
   "id": "178be13b",
   "metadata": {},
   "outputs": [
    {
     "name": "stdout",
     "output_type": "stream",
     "text": [
      "Random Forest (Numerical) Training Accuracy:  0.9999094675209466\n",
      "Random Forest (Numerical) Testing Accuracy:  0.9991307322875008\n"
     ]
    }
   ],
   "source": [
    "# Separate features (X) and target variable (y)\n",
    "#display values, of dependant variable and indepentd\n",
    "X = df[['sex','Age','Height', 'Weight','hypertension','diabetes']].values\n",
    "y = df[['BMI','Lower Limmit','Upper Limmit', 'Fat Percentage']].values\n",
    "\n",
    "# Split the data into training and testing sets\n",
    "X_train, X_test, y_train, y_test = train_test_split(X, y, test_size=0.3)\n",
    "\n",
    "# Create a RandomFores tree model\n",
    "random_forest_model = RandomForestRegressor()\n",
    "\n",
    "# Fit the model on the training data\n",
    "random_forest_model.fit(X_train, y_train)\n",
    "\n",
    "print(\"Random Forest (Numerical) Training Accuracy: \", random_forest_model.score(X_train,y_train))\n",
    "\n",
    "# Make predictions on the testing set\n",
    "x_pred = random_forest_model.predict(X_test)\n",
    "y_pred = random_forest_model.predict(X_train)\n",
    "print(\"Random Forest (Numerical) Testing Accuracy: \",random_forest_model.score(X_test, y_test))\n"
   ]
  },
  {
   "cell_type": "code",
   "execution_count": 200,
   "id": "b8ed5a4e",
   "metadata": {},
   "outputs": [
    {
     "name": "stdout",
     "output_type": "stream",
     "text": [
      "[[21.8065 61.6965 83.0446 16.7229]]\n",
      "==========================================================\n"
     ]
    }
   ],
   "source": [
    "# Features\n",
    "feature_test = np.array([[1,18, 1.82,75.5,0,0]])\n",
    "result = random_forest_model.predict(feature_test)\n",
    "print(result)\n",
    "print(\"==========================================================\")"
   ]
  },
  {
   "cell_type": "markdown",
   "id": "0b872e1a",
   "metadata": {},
   "source": [
    "__________"
   ]
  },
  {
   "cell_type": "markdown",
   "id": "6b252acd",
   "metadata": {},
   "source": [
    "# Building a DecisionTreeClassifier model for Categorical Variables"
   ]
  },
  {
   "cell_type": "code",
   "execution_count": 229,
   "id": "f92cff09",
   "metadata": {},
   "outputs": [],
   "source": [
    "# Separate features (X) and target variable (y)\n",
    "#display values, of dependant variable and indepentd\n",
    "X = df[['sex','Age','Height', 'Weight','hypertension','diabetes']].values\n",
    "y = df[['Level','Fitness Goal', 'Fitness Type', 'Exercises', 'Equipment Required', 'Diet','Conclusion Recommendation']].values"
   ]
  },
  {
   "cell_type": "code",
   "execution_count": 230,
   "id": "cbb7880e",
   "metadata": {},
   "outputs": [],
   "source": [
    "# Split the data into training and testing sets\n",
    "X_train, X_test, y_train, y_test = train_test_split(X, y, test_size=0.2)"
   ]
  },
  {
   "cell_type": "code",
   "execution_count": 231,
   "id": "bb59bb40",
   "metadata": {},
   "outputs": [],
   "source": [
    "dtree = MultiOutputClassifier(DecisionTreeClassifier(random_state=42))"
   ]
  },
  {
   "cell_type": "code",
   "execution_count": 232,
   "id": "3969caad",
   "metadata": {},
   "outputs": [
    {
     "data": {
      "text/html": [
       "<style>#sk-container-id-19 {\n",
       "  /* Definition of color scheme common for light and dark mode */\n",
       "  --sklearn-color-text: black;\n",
       "  --sklearn-color-line: gray;\n",
       "  /* Definition of color scheme for unfitted estimators */\n",
       "  --sklearn-color-unfitted-level-0: #fff5e6;\n",
       "  --sklearn-color-unfitted-level-1: #f6e4d2;\n",
       "  --sklearn-color-unfitted-level-2: #ffe0b3;\n",
       "  --sklearn-color-unfitted-level-3: chocolate;\n",
       "  /* Definition of color scheme for fitted estimators */\n",
       "  --sklearn-color-fitted-level-0: #f0f8ff;\n",
       "  --sklearn-color-fitted-level-1: #d4ebff;\n",
       "  --sklearn-color-fitted-level-2: #b3dbfd;\n",
       "  --sklearn-color-fitted-level-3: cornflowerblue;\n",
       "\n",
       "  /* Specific color for light theme */\n",
       "  --sklearn-color-text-on-default-background: var(--sg-text-color, var(--theme-code-foreground, var(--jp-content-font-color1, black)));\n",
       "  --sklearn-color-background: var(--sg-background-color, var(--theme-background, var(--jp-layout-color0, white)));\n",
       "  --sklearn-color-border-box: var(--sg-text-color, var(--theme-code-foreground, var(--jp-content-font-color1, black)));\n",
       "  --sklearn-color-icon: #696969;\n",
       "\n",
       "  @media (prefers-color-scheme: dark) {\n",
       "    /* Redefinition of color scheme for dark theme */\n",
       "    --sklearn-color-text-on-default-background: var(--sg-text-color, var(--theme-code-foreground, var(--jp-content-font-color1, white)));\n",
       "    --sklearn-color-background: var(--sg-background-color, var(--theme-background, var(--jp-layout-color0, #111)));\n",
       "    --sklearn-color-border-box: var(--sg-text-color, var(--theme-code-foreground, var(--jp-content-font-color1, white)));\n",
       "    --sklearn-color-icon: #878787;\n",
       "  }\n",
       "}\n",
       "\n",
       "#sk-container-id-19 {\n",
       "  color: var(--sklearn-color-text);\n",
       "}\n",
       "\n",
       "#sk-container-id-19 pre {\n",
       "  padding: 0;\n",
       "}\n",
       "\n",
       "#sk-container-id-19 input.sk-hidden--visually {\n",
       "  border: 0;\n",
       "  clip: rect(1px 1px 1px 1px);\n",
       "  clip: rect(1px, 1px, 1px, 1px);\n",
       "  height: 1px;\n",
       "  margin: -1px;\n",
       "  overflow: hidden;\n",
       "  padding: 0;\n",
       "  position: absolute;\n",
       "  width: 1px;\n",
       "}\n",
       "\n",
       "#sk-container-id-19 div.sk-dashed-wrapped {\n",
       "  border: 1px dashed var(--sklearn-color-line);\n",
       "  margin: 0 0.4em 0.5em 0.4em;\n",
       "  box-sizing: border-box;\n",
       "  padding-bottom: 0.4em;\n",
       "  background-color: var(--sklearn-color-background);\n",
       "}\n",
       "\n",
       "#sk-container-id-19 div.sk-container {\n",
       "  /* jupyter's `normalize.less` sets `[hidden] { display: none; }`\n",
       "     but bootstrap.min.css set `[hidden] { display: none !important; }`\n",
       "     so we also need the `!important` here to be able to override the\n",
       "     default hidden behavior on the sphinx rendered scikit-learn.org.\n",
       "     See: https://github.com/scikit-learn/scikit-learn/issues/21755 */\n",
       "  display: inline-block !important;\n",
       "  position: relative;\n",
       "}\n",
       "\n",
       "#sk-container-id-19 div.sk-text-repr-fallback {\n",
       "  display: none;\n",
       "}\n",
       "\n",
       "div.sk-parallel-item,\n",
       "div.sk-serial,\n",
       "div.sk-item {\n",
       "  /* draw centered vertical line to link estimators */\n",
       "  background-image: linear-gradient(var(--sklearn-color-text-on-default-background), var(--sklearn-color-text-on-default-background));\n",
       "  background-size: 2px 100%;\n",
       "  background-repeat: no-repeat;\n",
       "  background-position: center center;\n",
       "}\n",
       "\n",
       "/* Parallel-specific style estimator block */\n",
       "\n",
       "#sk-container-id-19 div.sk-parallel-item::after {\n",
       "  content: \"\";\n",
       "  width: 100%;\n",
       "  border-bottom: 2px solid var(--sklearn-color-text-on-default-background);\n",
       "  flex-grow: 1;\n",
       "}\n",
       "\n",
       "#sk-container-id-19 div.sk-parallel {\n",
       "  display: flex;\n",
       "  align-items: stretch;\n",
       "  justify-content: center;\n",
       "  background-color: var(--sklearn-color-background);\n",
       "  position: relative;\n",
       "}\n",
       "\n",
       "#sk-container-id-19 div.sk-parallel-item {\n",
       "  display: flex;\n",
       "  flex-direction: column;\n",
       "}\n",
       "\n",
       "#sk-container-id-19 div.sk-parallel-item:first-child::after {\n",
       "  align-self: flex-end;\n",
       "  width: 50%;\n",
       "}\n",
       "\n",
       "#sk-container-id-19 div.sk-parallel-item:last-child::after {\n",
       "  align-self: flex-start;\n",
       "  width: 50%;\n",
       "}\n",
       "\n",
       "#sk-container-id-19 div.sk-parallel-item:only-child::after {\n",
       "  width: 0;\n",
       "}\n",
       "\n",
       "/* Serial-specific style estimator block */\n",
       "\n",
       "#sk-container-id-19 div.sk-serial {\n",
       "  display: flex;\n",
       "  flex-direction: column;\n",
       "  align-items: center;\n",
       "  background-color: var(--sklearn-color-background);\n",
       "  padding-right: 1em;\n",
       "  padding-left: 1em;\n",
       "}\n",
       "\n",
       "\n",
       "/* Toggleable style: style used for estimator/Pipeline/ColumnTransformer box that is\n",
       "clickable and can be expanded/collapsed.\n",
       "- Pipeline and ColumnTransformer use this feature and define the default style\n",
       "- Estimators will overwrite some part of the style using the `sk-estimator` class\n",
       "*/\n",
       "\n",
       "/* Pipeline and ColumnTransformer style (default) */\n",
       "\n",
       "#sk-container-id-19 div.sk-toggleable {\n",
       "  /* Default theme specific background. It is overwritten whether we have a\n",
       "  specific estimator or a Pipeline/ColumnTransformer */\n",
       "  background-color: var(--sklearn-color-background);\n",
       "}\n",
       "\n",
       "/* Toggleable label */\n",
       "#sk-container-id-19 label.sk-toggleable__label {\n",
       "  cursor: pointer;\n",
       "  display: block;\n",
       "  width: 100%;\n",
       "  margin-bottom: 0;\n",
       "  padding: 0.5em;\n",
       "  box-sizing: border-box;\n",
       "  text-align: center;\n",
       "}\n",
       "\n",
       "#sk-container-id-19 label.sk-toggleable__label-arrow:before {\n",
       "  /* Arrow on the left of the label */\n",
       "  content: \"▸\";\n",
       "  float: left;\n",
       "  margin-right: 0.25em;\n",
       "  color: var(--sklearn-color-icon);\n",
       "}\n",
       "\n",
       "#sk-container-id-19 label.sk-toggleable__label-arrow:hover:before {\n",
       "  color: var(--sklearn-color-text);\n",
       "}\n",
       "\n",
       "/* Toggleable content - dropdown */\n",
       "\n",
       "#sk-container-id-19 div.sk-toggleable__content {\n",
       "  max-height: 0;\n",
       "  max-width: 0;\n",
       "  overflow: hidden;\n",
       "  text-align: left;\n",
       "  /* unfitted */\n",
       "  background-color: var(--sklearn-color-unfitted-level-0);\n",
       "}\n",
       "\n",
       "#sk-container-id-19 div.sk-toggleable__content.fitted {\n",
       "  /* fitted */\n",
       "  background-color: var(--sklearn-color-fitted-level-0);\n",
       "}\n",
       "\n",
       "#sk-container-id-19 div.sk-toggleable__content pre {\n",
       "  margin: 0.2em;\n",
       "  border-radius: 0.25em;\n",
       "  color: var(--sklearn-color-text);\n",
       "  /* unfitted */\n",
       "  background-color: var(--sklearn-color-unfitted-level-0);\n",
       "}\n",
       "\n",
       "#sk-container-id-19 div.sk-toggleable__content.fitted pre {\n",
       "  /* unfitted */\n",
       "  background-color: var(--sklearn-color-fitted-level-0);\n",
       "}\n",
       "\n",
       "#sk-container-id-19 input.sk-toggleable__control:checked~div.sk-toggleable__content {\n",
       "  /* Expand drop-down */\n",
       "  max-height: 200px;\n",
       "  max-width: 100%;\n",
       "  overflow: auto;\n",
       "}\n",
       "\n",
       "#sk-container-id-19 input.sk-toggleable__control:checked~label.sk-toggleable__label-arrow:before {\n",
       "  content: \"▾\";\n",
       "}\n",
       "\n",
       "/* Pipeline/ColumnTransformer-specific style */\n",
       "\n",
       "#sk-container-id-19 div.sk-label input.sk-toggleable__control:checked~label.sk-toggleable__label {\n",
       "  color: var(--sklearn-color-text);\n",
       "  background-color: var(--sklearn-color-unfitted-level-2);\n",
       "}\n",
       "\n",
       "#sk-container-id-19 div.sk-label.fitted input.sk-toggleable__control:checked~label.sk-toggleable__label {\n",
       "  background-color: var(--sklearn-color-fitted-level-2);\n",
       "}\n",
       "\n",
       "/* Estimator-specific style */\n",
       "\n",
       "/* Colorize estimator box */\n",
       "#sk-container-id-19 div.sk-estimator input.sk-toggleable__control:checked~label.sk-toggleable__label {\n",
       "  /* unfitted */\n",
       "  background-color: var(--sklearn-color-unfitted-level-2);\n",
       "}\n",
       "\n",
       "#sk-container-id-19 div.sk-estimator.fitted input.sk-toggleable__control:checked~label.sk-toggleable__label {\n",
       "  /* fitted */\n",
       "  background-color: var(--sklearn-color-fitted-level-2);\n",
       "}\n",
       "\n",
       "#sk-container-id-19 div.sk-label label.sk-toggleable__label,\n",
       "#sk-container-id-19 div.sk-label label {\n",
       "  /* The background is the default theme color */\n",
       "  color: var(--sklearn-color-text-on-default-background);\n",
       "}\n",
       "\n",
       "/* On hover, darken the color of the background */\n",
       "#sk-container-id-19 div.sk-label:hover label.sk-toggleable__label {\n",
       "  color: var(--sklearn-color-text);\n",
       "  background-color: var(--sklearn-color-unfitted-level-2);\n",
       "}\n",
       "\n",
       "/* Label box, darken color on hover, fitted */\n",
       "#sk-container-id-19 div.sk-label.fitted:hover label.sk-toggleable__label.fitted {\n",
       "  color: var(--sklearn-color-text);\n",
       "  background-color: var(--sklearn-color-fitted-level-2);\n",
       "}\n",
       "\n",
       "/* Estimator label */\n",
       "\n",
       "#sk-container-id-19 div.sk-label label {\n",
       "  font-family: monospace;\n",
       "  font-weight: bold;\n",
       "  display: inline-block;\n",
       "  line-height: 1.2em;\n",
       "}\n",
       "\n",
       "#sk-container-id-19 div.sk-label-container {\n",
       "  text-align: center;\n",
       "}\n",
       "\n",
       "/* Estimator-specific */\n",
       "#sk-container-id-19 div.sk-estimator {\n",
       "  font-family: monospace;\n",
       "  border: 1px dotted var(--sklearn-color-border-box);\n",
       "  border-radius: 0.25em;\n",
       "  box-sizing: border-box;\n",
       "  margin-bottom: 0.5em;\n",
       "  /* unfitted */\n",
       "  background-color: var(--sklearn-color-unfitted-level-0);\n",
       "}\n",
       "\n",
       "#sk-container-id-19 div.sk-estimator.fitted {\n",
       "  /* fitted */\n",
       "  background-color: var(--sklearn-color-fitted-level-0);\n",
       "}\n",
       "\n",
       "/* on hover */\n",
       "#sk-container-id-19 div.sk-estimator:hover {\n",
       "  /* unfitted */\n",
       "  background-color: var(--sklearn-color-unfitted-level-2);\n",
       "}\n",
       "\n",
       "#sk-container-id-19 div.sk-estimator.fitted:hover {\n",
       "  /* fitted */\n",
       "  background-color: var(--sklearn-color-fitted-level-2);\n",
       "}\n",
       "\n",
       "/* Specification for estimator info (e.g. \"i\" and \"?\") */\n",
       "\n",
       "/* Common style for \"i\" and \"?\" */\n",
       "\n",
       ".sk-estimator-doc-link,\n",
       "a:link.sk-estimator-doc-link,\n",
       "a:visited.sk-estimator-doc-link {\n",
       "  float: right;\n",
       "  font-size: smaller;\n",
       "  line-height: 1em;\n",
       "  font-family: monospace;\n",
       "  background-color: var(--sklearn-color-background);\n",
       "  border-radius: 1em;\n",
       "  height: 1em;\n",
       "  width: 1em;\n",
       "  text-decoration: none !important;\n",
       "  margin-left: 1ex;\n",
       "  /* unfitted */\n",
       "  border: var(--sklearn-color-unfitted-level-1) 1pt solid;\n",
       "  color: var(--sklearn-color-unfitted-level-1);\n",
       "}\n",
       "\n",
       ".sk-estimator-doc-link.fitted,\n",
       "a:link.sk-estimator-doc-link.fitted,\n",
       "a:visited.sk-estimator-doc-link.fitted {\n",
       "  /* fitted */\n",
       "  border: var(--sklearn-color-fitted-level-1) 1pt solid;\n",
       "  color: var(--sklearn-color-fitted-level-1);\n",
       "}\n",
       "\n",
       "/* On hover */\n",
       "div.sk-estimator:hover .sk-estimator-doc-link:hover,\n",
       ".sk-estimator-doc-link:hover,\n",
       "div.sk-label-container:hover .sk-estimator-doc-link:hover,\n",
       ".sk-estimator-doc-link:hover {\n",
       "  /* unfitted */\n",
       "  background-color: var(--sklearn-color-unfitted-level-3);\n",
       "  color: var(--sklearn-color-background);\n",
       "  text-decoration: none;\n",
       "}\n",
       "\n",
       "div.sk-estimator.fitted:hover .sk-estimator-doc-link.fitted:hover,\n",
       ".sk-estimator-doc-link.fitted:hover,\n",
       "div.sk-label-container:hover .sk-estimator-doc-link.fitted:hover,\n",
       ".sk-estimator-doc-link.fitted:hover {\n",
       "  /* fitted */\n",
       "  background-color: var(--sklearn-color-fitted-level-3);\n",
       "  color: var(--sklearn-color-background);\n",
       "  text-decoration: none;\n",
       "}\n",
       "\n",
       "/* Span, style for the box shown on hovering the info icon */\n",
       ".sk-estimator-doc-link span {\n",
       "  display: none;\n",
       "  z-index: 9999;\n",
       "  position: relative;\n",
       "  font-weight: normal;\n",
       "  right: .2ex;\n",
       "  padding: .5ex;\n",
       "  margin: .5ex;\n",
       "  width: min-content;\n",
       "  min-width: 20ex;\n",
       "  max-width: 50ex;\n",
       "  color: var(--sklearn-color-text);\n",
       "  box-shadow: 2pt 2pt 4pt #999;\n",
       "  /* unfitted */\n",
       "  background: var(--sklearn-color-unfitted-level-0);\n",
       "  border: .5pt solid var(--sklearn-color-unfitted-level-3);\n",
       "}\n",
       "\n",
       ".sk-estimator-doc-link.fitted span {\n",
       "  /* fitted */\n",
       "  background: var(--sklearn-color-fitted-level-0);\n",
       "  border: var(--sklearn-color-fitted-level-3);\n",
       "}\n",
       "\n",
       ".sk-estimator-doc-link:hover span {\n",
       "  display: block;\n",
       "}\n",
       "\n",
       "/* \"?\"-specific style due to the `<a>` HTML tag */\n",
       "\n",
       "#sk-container-id-19 a.estimator_doc_link {\n",
       "  float: right;\n",
       "  font-size: 1rem;\n",
       "  line-height: 1em;\n",
       "  font-family: monospace;\n",
       "  background-color: var(--sklearn-color-background);\n",
       "  border-radius: 1rem;\n",
       "  height: 1rem;\n",
       "  width: 1rem;\n",
       "  text-decoration: none;\n",
       "  /* unfitted */\n",
       "  color: var(--sklearn-color-unfitted-level-1);\n",
       "  border: var(--sklearn-color-unfitted-level-1) 1pt solid;\n",
       "}\n",
       "\n",
       "#sk-container-id-19 a.estimator_doc_link.fitted {\n",
       "  /* fitted */\n",
       "  border: var(--sklearn-color-fitted-level-1) 1pt solid;\n",
       "  color: var(--sklearn-color-fitted-level-1);\n",
       "}\n",
       "\n",
       "/* On hover */\n",
       "#sk-container-id-19 a.estimator_doc_link:hover {\n",
       "  /* unfitted */\n",
       "  background-color: var(--sklearn-color-unfitted-level-3);\n",
       "  color: var(--sklearn-color-background);\n",
       "  text-decoration: none;\n",
       "}\n",
       "\n",
       "#sk-container-id-19 a.estimator_doc_link.fitted:hover {\n",
       "  /* fitted */\n",
       "  background-color: var(--sklearn-color-fitted-level-3);\n",
       "}\n",
       "</style><div id=\"sk-container-id-19\" class=\"sk-top-container\"><div class=\"sk-text-repr-fallback\"><pre>MultiOutputClassifier(estimator=DecisionTreeClassifier(random_state=42))</pre><b>In a Jupyter environment, please rerun this cell to show the HTML representation or trust the notebook. <br />On GitHub, the HTML representation is unable to render, please try loading this page with nbviewer.org.</b></div><div class=\"sk-container\" hidden><div class=\"sk-item sk-dashed-wrapped\"><div class=\"sk-label-container\"><div class=\"sk-label fitted sk-toggleable\"><input class=\"sk-toggleable__control sk-hidden--visually\" id=\"sk-estimator-id-49\" type=\"checkbox\" ><label for=\"sk-estimator-id-49\" class=\"sk-toggleable__label fitted sk-toggleable__label-arrow fitted\">&nbsp;&nbsp;MultiOutputClassifier<a class=\"sk-estimator-doc-link fitted\" rel=\"noreferrer\" target=\"_blank\" href=\"https://scikit-learn.org/1.4/modules/generated/sklearn.multioutput.MultiOutputClassifier.html\">?<span>Documentation for MultiOutputClassifier</span></a><span class=\"sk-estimator-doc-link fitted\">i<span>Fitted</span></span></label><div class=\"sk-toggleable__content fitted\"><pre>MultiOutputClassifier(estimator=DecisionTreeClassifier(random_state=42))</pre></div> </div></div><div class=\"sk-parallel\"><div class=\"sk-parallel-item\"><div class=\"sk-item\"><div class=\"sk-label-container\"><div class=\"sk-label fitted sk-toggleable\"><input class=\"sk-toggleable__control sk-hidden--visually\" id=\"sk-estimator-id-50\" type=\"checkbox\" ><label for=\"sk-estimator-id-50\" class=\"sk-toggleable__label fitted sk-toggleable__label-arrow fitted\">estimator: DecisionTreeClassifier</label><div class=\"sk-toggleable__content fitted\"><pre>DecisionTreeClassifier(random_state=42)</pre></div> </div></div><div class=\"sk-serial\"><div class=\"sk-item\"><div class=\"sk-estimator fitted sk-toggleable\"><input class=\"sk-toggleable__control sk-hidden--visually\" id=\"sk-estimator-id-51\" type=\"checkbox\" ><label for=\"sk-estimator-id-51\" class=\"sk-toggleable__label fitted sk-toggleable__label-arrow fitted\">&nbsp;DecisionTreeClassifier<a class=\"sk-estimator-doc-link fitted\" rel=\"noreferrer\" target=\"_blank\" href=\"https://scikit-learn.org/1.4/modules/generated/sklearn.tree.DecisionTreeClassifier.html\">?<span>Documentation for DecisionTreeClassifier</span></a></label><div class=\"sk-toggleable__content fitted\"><pre>DecisionTreeClassifier(random_state=42)</pre></div> </div></div></div></div></div></div></div></div></div>"
      ],
      "text/plain": [
       "MultiOutputClassifier(estimator=DecisionTreeClassifier(random_state=42))"
      ]
     },
     "execution_count": 232,
     "metadata": {},
     "output_type": "execute_result"
    }
   ],
   "source": [
    "dtree.fit(X_train,y_train)"
   ]
  },
  {
   "cell_type": "code",
   "execution_count": 233,
   "id": "201ec078",
   "metadata": {},
   "outputs": [
    {
     "name": "stdout",
     "output_type": "stream",
     "text": [
      "The Decision Tree Model Accurency For Training:-  0.9927733556765815\n",
      "The Decision Tree Model Accurency For Testing:-  0.8953098827470687\n"
     ]
    }
   ],
   "source": [
    "print(\"The Decision Tree Model Accurency For Training:- \", dtree.score(X_train, y_train))\n",
    "print(\"The Decision Tree Model Accurency For Testing:- \", dtree.score(X_test, y_test))"
   ]
  },
  {
   "cell_type": "code",
   "execution_count": 234,
   "id": "45360ca3",
   "metadata": {},
   "outputs": [
    {
     "name": "stdout",
     "output_type": "stream",
     "text": [
      "[['Overweight' 'Weight Loss' 'Cardio Fitness'\n",
      "  'Brisk walking, cycling, swimming, running , or dancing.'\n",
      "  'Ellipticals, Indoor Rowers,Treadmills, Rowing machine'\n",
      "  'Vegetables: (Broccoli, Carrots, Spinach, Lettuce, Onion); Protein Intake: (Cheese, Cattoge cheese, Skim Milk, Law fat Milk, and Baru Nuts); Juice: (Fruit Juice, Aloe vera juice, Cold-pressed juice, and Watermelon juice)'\n",
      "  \"Follow a regular exercise schedule. Adhere to the exercise and diet plan to get better results. It is important to approach weight loss in a healthy and balanced way, focusing on exercise and nutrition. Keep in mind that weight loss should be gradual and focused on building lean muscle rather than increasing fat. Additionally, it's always a good idea to consult with a healthcare professional or registered dietitian before making any significant changes to your exercise or diet plan. Here are some important tips:- Stay hydrated by drinking enough water throughout the day. Monitor your progress and adjust your diet and exercise routine accordingly. Get adequate sleep to support muscle recovery and overall health. Always monitor your situation, and consult your doctor or a professional counselor. Consistency: Establish a consistent eating and exercise routine. Consistency is key when it comes to long-term weight management. NOTICE: Opt for whole grains over refined grains for added fiber.Limit added sugars and opt for natural sources like honey or fruits.\"]]\n",
      "==========================================================\n"
     ]
    }
   ],
   "source": [
    "# Features\n",
    "feature_test = np.array([[1,18, 1.68,75.5,0,0]])\n",
    "result = dtree.predict(feature_test)\n",
    "print(result)\n",
    "print(\"==========================================================\")"
   ]
  },
  {
   "cell_type": "code",
   "execution_count": 235,
   "id": "b522647d",
   "metadata": {},
   "outputs": [],
   "source": [
    "from sklearn.metrics import classification_report, confusion_matrix"
   ]
  },
  {
   "cell_type": "code",
   "execution_count": 236,
   "id": "0944aab6",
   "metadata": {},
   "outputs": [],
   "source": [
    "predictions = dtree.predict(X_test)"
   ]
  },
  {
   "cell_type": "code",
   "execution_count": 179,
   "id": "d09683d5",
   "metadata": {},
   "outputs": [],
   "source": [
    "# print(classification_report(y_test, predictions))"
   ]
  },
  {
   "cell_type": "code",
   "execution_count": 180,
   "id": "44cb1234",
   "metadata": {},
   "outputs": [],
   "source": [
    "# # Evaluate the model's accuracy\n",
    "# accuracy = accuracy_score(y_test, predictions)\n",
    "# print(f\"Accuracy: {accuracy}\")"
   ]
  },
  {
   "cell_type": "markdown",
   "id": "19397a56",
   "metadata": {},
   "source": [
    "-------------------------------------"
   ]
  },
  {
   "cell_type": "markdown",
   "id": "ccb7c350",
   "metadata": {},
   "source": [
    "# Using SMOTEENN To Improve Decision Tree accuracy"
   ]
  },
  {
   "cell_type": "code",
   "execution_count": 181,
   "id": "e82a6db9",
   "metadata": {},
   "outputs": [
    {
     "name": "stdout",
     "output_type": "stream",
     "text": [
      "0.9917260159195643\n",
      "0.8572026800670016\n"
     ]
    }
   ],
   "source": [
    "sm = SMOTEENN()\n",
    "X_dt = df[['sex', 'Age', 'Height', 'Weight', 'hypertension', 'diabetes']].values\n",
    "y_dt = df[['Level', 'Fitness Goal', 'Fitness Type', 'Exercises', 'Equipment Required', 'Diet', 'Conclusion Recommendation']].values\n",
    "\n",
    "# Splitting dataset\n",
    "xdt_train, xdt_test, ydt_train, ydt_test = train_test_split(X_dt, y_dt, test_size=0.2, random_state=100)\n",
    "\n",
    "# Setting up and training the MultiOutputClassifier with RandomForest\n",
    "model_dt_smote = MultiOutputClassifier(DecisionTreeClassifier())\n",
    "model_dt_smote.fit(xdt_train, yr_train)\n",
    "\n",
    "# Prediction\n",
    "ydt_predict = model_dt_smote.predict(xdt_test)\n",
    "\n",
    "# Evaluation\n",
    "model_score_training = model_dt_smote.score(xdt_train, ydt_train)\n",
    "model_score_testing = model_rf_smote.score(xdt_test, ydt_test)\n",
    "print(model_score_training)\n",
    "print(model_score_testing)\n",
    "# print(classification_report(yr_test, yr_predict))"
   ]
  },
  {
   "cell_type": "markdown",
   "id": "0a15082f",
   "metadata": {},
   "source": [
    "-------------------------"
   ]
  },
  {
   "cell_type": "markdown",
   "id": "85e69e40",
   "metadata": {},
   "source": [
    "# Building a DecisionTreeRegressor for Numerical"
   ]
  },
  {
   "cell_type": "code",
   "execution_count": 184,
   "id": "9f72320c",
   "metadata": {},
   "outputs": [
    {
     "name": "stdout",
     "output_type": "stream",
     "text": [
      "The Decision Tree Model (Numerical) Accurency For Training:-  1.0\n",
      "The Decision Tree Model (Numerical) Accurency For Testing:-  0.9993121146672409\n"
     ]
    }
   ],
   "source": [
    "# Separate features (X) and target variable (y)\n",
    "#display values, of dependant variable and indepentd\n",
    "X = df[['sex','Age','Height', 'Weight','hypertension','diabetes']].values\n",
    "y = df[['BMI','Lower Limmit','Upper Limmit', 'Fat Percentage']].values\n",
    "\n",
    "# Split the data into training and testing sets\n",
    "X_train, X_test, y_train, y_test = train_test_split(X, y, test_size=0.3)\n",
    "dtree_numeric = DecisionTreeRegressor()\n",
    "\n",
    "dtree_numeric.fit(X_train,y_train)\n",
    "print(\"The Decision Tree Model (Numerical) Accurency For Training:- \", dtree_numeric.score(X_train, y_train))\n",
    "print(\"The Decision Tree Model (Numerical) Accurency For Testing:- \", dtree_numeric.score(X_test, y_test))"
   ]
  },
  {
   "cell_type": "code",
   "execution_count": 185,
   "id": "a2f73ddc",
   "metadata": {},
   "outputs": [
    {
     "name": "stdout",
     "output_type": "stream",
     "text": [
      "[[26.93 52.21 70.28 20.26]]\n",
      "==========================================================\n"
     ]
    }
   ],
   "source": [
    "# Features\n",
    "feature_test = np.array([[1,18, 1.68,75.5,0,0]])\n",
    "result = dtree_numeric.predict(feature_test)\n",
    "print(result)\n",
    "print(\"==========================================================\")"
   ]
  },
  {
   "cell_type": "markdown",
   "id": "892960b7",
   "metadata": {},
   "source": [
    "------------------"
   ]
  },
  {
   "cell_type": "markdown",
   "id": "771401fb",
   "metadata": {},
   "source": [
    "# Building a Linear Regression model"
   ]
  },
  {
   "cell_type": "code",
   "execution_count": 186,
   "id": "c128726f",
   "metadata": {},
   "outputs": [],
   "source": [
    "# Separate features (X) and target variable (y)\n",
    "#display values, of dependant variable and indepentd\n",
    "X = df[['sex','Age','Height', 'Weight','hypertension','diabetes']].values\n",
    "y = df[['BMI','Lower Limmit','Upper Limmit', 'Fat Percentage']].values"
   ]
  },
  {
   "cell_type": "markdown",
   "id": "29874788",
   "metadata": {},
   "source": [
    "## Train Test Split"
   ]
  },
  {
   "cell_type": "code",
   "execution_count": 187,
   "id": "d4bee41b",
   "metadata": {},
   "outputs": [],
   "source": [
    "# Split the data into training and testing sets\n",
    "X_train, X_test, y_train, y_test = train_test_split(X, y, test_size=0.2)"
   ]
  },
  {
   "cell_type": "code",
   "execution_count": 188,
   "id": "c8aa5eab",
   "metadata": {},
   "outputs": [],
   "source": [
    "# Initialize the Linear Regression model\n",
    "lin_reg = LinearRegression()"
   ]
  },
  {
   "cell_type": "code",
   "execution_count": 189,
   "id": "40518814",
   "metadata": {},
   "outputs": [
    {
     "name": "stdout",
     "output_type": "stream",
     "text": [
      "Linear Regression Model (Nemerical):  0.9936921702902906\n",
      "Linear Regression Model (Nemerical):  0.9939536056739671\n"
     ]
    }
   ],
   "source": [
    "# Train the model on the training set\n",
    "lin_reg.fit(X_train, y_train)\n",
    "print(\"Linear Regression Model (Nemerical): \", lin_reg.score(X_train,y_train))\n",
    "\n",
    "# Make predictions on the testing set\n",
    "x_pred = lin_reg.predict(X_test)\n",
    "y_pred = lin_reg.predict(X_train)\n",
    "print(\"Linear Regression Model (Nemerical): \", lin_reg.score(X_test, y_test))"
   ]
  },
  {
   "cell_type": "code",
   "execution_count": 190,
   "id": "5dbeb6b6",
   "metadata": {},
   "outputs": [],
   "source": [
    "predictions = lin_reg.predict(X_test)"
   ]
  },
  {
   "cell_type": "code",
   "execution_count": 191,
   "id": "128e0617",
   "metadata": {},
   "outputs": [
    {
     "data": {
      "text/plain": [
       "<matplotlib.collections.PathCollection at 0x18aa0c11950>"
      ]
     },
     "execution_count": 191,
     "metadata": {},
     "output_type": "execute_result"
    },
    {
     "data": {
      "image/png": "[encoded data removed]",
      "text/plain": [
       "<Figure size 640x480 with 1 Axes>"
      ]
     },
     "metadata": {},
     "output_type": "display_data"
    }
   ],
   "source": [
    "plt.scatter(y_test,predictions)"
   ]
  },
  {
   "cell_type": "code",
   "execution_count": 192,
   "id": "e750312e",
   "metadata": {},
   "outputs": [
    {
     "name": "stdout",
     "output_type": "stream",
     "text": [
      "[[17.14931577 52.32970083 70.43254199  8.51962374]]\n",
      "\n",
      "==========================================================\n",
      "Your BMI is:-  17.15\n",
      "Your Lower Limmit is:-  52.33\n",
      "Your Upper Limmit is:-  70.43\n",
      "The Standard weight 52.33 (kg) - 70.43 (kg)\n",
      "Average Fat in Your Body is: 8.52%\n"
     ]
    }
   ],
   "source": [
    "# Features\n",
    "feature_test = np.array([[1,18, 1.68,47.5,1,1]])\n",
    "result = lin_reg.predict(feature_test)\n",
    "lower = result[:,1][0]\n",
    "upper = result[:,2][0]\n",
    "fat = result[:,3][0]\n",
    "\n",
    "print(result)\n",
    "print()\n",
    "print(\"==========================================================\")\n",
    "print(\"Your BMI is:- \", round(result[:,0][0],2))\n",
    "print(\"Your Lower Limmit is:- \", round(result[:,1][0],2))\n",
    "print(\"Your Upper Limmit is:- \", round(result[:,2][0],2))\n",
    "print(f'The Standard weight {round(lower,2)} (kg) - {round(upper,2)} (kg)')\n",
    "print(f'Average Fat in Your Body is: {round(fat,2)}%')"
   ]
  },
  {
   "cell_type": "markdown",
   "id": "9d0c6793",
   "metadata": {},
   "source": [
    "------------------"
   ]
  },
  {
   "cell_type": "markdown",
   "id": "8a854835",
   "metadata": {},
   "source": [
    "# Building a Logistic Regression model"
   ]
  },
  {
   "cell_type": "code",
   "execution_count": null,
   "id": "e9ceae80",
   "metadata": {},
   "outputs": [],
   "source": [
    "# Separate features (X) and target variable (y)\n",
    "#display values, of dependant variable and indepentd\n",
    "X = df[['sex','Age','Height','Weight','hypertension','diabetes']].values\n",
    "# y = df[['BMI','Lower Limmit','Upper Limmit','Fat Percentage']].values\n",
    "y = df['Fitness Gloa'].values"
   ]
  },
  {
   "cell_type": "markdown",
   "id": "e29600d3",
   "metadata": {},
   "source": [
    "## Train Test Split"
   ]
  },
  {
   "cell_type": "code",
   "execution_count": null,
   "id": "79ce5f4a",
   "metadata": {},
   "outputs": [],
   "source": [
    "# Split the data into training and testing sets\n",
    "X_train, X_test, y_train, y_test = train_test_split(X, y, test_size=0.3, random_state=101)"
   ]
  },
  {
   "cell_type": "code",
   "execution_count": null,
   "id": "4769e3a6",
   "metadata": {},
   "outputs": [],
   "source": [
    "# Initialize the Linear Regression model\n",
    "logmodel = LogisticRegression()\n",
    "logmodel.fit(X_train,y_train)"
   ]
  },
  {
   "cell_type": "code",
   "execution_count": null,
   "id": "eaa1a470",
   "metadata": {},
   "outputs": [],
   "source": [
    "# Train the model on the training set\n",
    "logmodel.fit(X_train,y_train)\n",
    "print(logmodel.score(X_train,y_train))"
   ]
  },
  {
   "cell_type": "code",
   "execution_count": null,
   "id": "6fc29b3a",
   "metadata": {},
   "outputs": [],
   "source": [
    "# Make predictions on the testing set\n",
    "x_pred = logmodel.predict(X_test)\n",
    "y_pred = logmodel.predict(X_train)\n",
    "print(logmodel.score(X_test, y_test))"
   ]
  },
  {
   "cell_type": "code",
   "execution_count": null,
   "id": "cc317b03",
   "metadata": {},
   "outputs": [],
   "source": [
    "predictions_log = logmodel.predict(X_test)"
   ]
  },
  {
   "cell_type": "code",
   "execution_count": null,
   "id": "7266b2cf",
   "metadata": {},
   "outputs": [],
   "source": [
    "#plt.hist(y_test,predictions)"
   ]
  },
  {
   "cell_type": "code",
   "execution_count": null,
   "id": "bf0b0730",
   "metadata": {},
   "outputs": [],
   "source": [
    "# Features\n",
    "feature_test = np.array([[1,18, 1.68,29,1,1]])\n",
    "result = logmodel.predict(feature_test)\n",
    "\n",
    "print(result)\n",
    "print()\n",
    "print(\"==========================================================\")"
   ]
  },
  {
   "cell_type": "markdown",
   "id": "689a4875",
   "metadata": {},
   "source": [
    "---------------------"
   ]
  },
  {
   "cell_type": "markdown",
   "id": "8292029f",
   "metadata": {},
   "source": [
    "# Building KNeighborsRegressor for Nemerical variables"
   ]
  },
  {
   "cell_type": "code",
   "execution_count": null,
   "id": "25a3fb36",
   "metadata": {},
   "outputs": [],
   "source": [
    "# Separate features (X) and target variables (y)\n",
    "X = df[['sex', 'Age', 'Height', 'Weight', 'hypertension', 'diabetes']].values\n",
    "y = df[['BMI', 'Lower Limmit','Upper Limmit', 'Fat Percentage']].values\n",
    "\n",
    "# Split the data into training and testing sets\n",
    "X_train, X_test, y_train, y_test = train_test_split(X, y, test_size=0.2, random_state=42)\n",
    "\n",
    "# Build a multi-output KNN regressor\n",
    "knn_regressor = KNeighborsRegressor(n_neighbors=7)\n",
    "\n",
    "# Train the model\n",
    "knn_regressor.fit(X_train, y_train)\n",
    "\n",
    "print(\"KNN - (Nemerical var) Accuracy Training:- \",knn_regressor.score(X_train,y_train))\n",
    "print(\"KNN - (Nemerical var) Accuracy Testing:- \", knn_regressor.score(X_test,y_test))\n",
    "# # Make predictions on the test data\n",
    "# predictions = knn_regressor.predict(X_test)\n",
    "\n",
    "# # Evaluate the model\n",
    "# mse = mean_squared_error(y_test, predictions)\n",
    "# print(f'Mean Squared Error: {mse}')"
   ]
  },
  {
   "cell_type": "code",
   "execution_count": null,
   "id": "53aa1f12",
   "metadata": {},
   "outputs": [],
   "source": [
    "# Features\n",
    "feature_test = np.array([[1,18, 1.68,99,1,1]])\n",
    "result = knn_regressor.predict(feature_test)\n",
    "\n",
    "print(result)\n",
    "print()\n",
    "print(\"==========================================================\")"
   ]
  },
  {
   "cell_type": "markdown",
   "id": "f7c4dd5a",
   "metadata": {},
   "source": [
    "-----------------"
   ]
  },
  {
   "cell_type": "markdown",
   "id": "4977518b",
   "metadata": {},
   "source": [
    "# Building KNeighborsClassifier for catergorical varaibles"
   ]
  },
  {
   "cell_type": "code",
   "execution_count": null,
   "id": "dc16d4f5",
   "metadata": {},
   "outputs": [],
   "source": [
    "# Separate features (X) and multi-output target variables (y)\n",
    "X = df[['sex', 'Age', 'Height', 'Weight', 'hypertension', 'diabetes']]\n",
    "y = df[['Level','Fitness Goal', 'Fitness Type', 'Exercises', 'Equipment Required', 'Diet','Conclusion Recommendation']]\n",
    "\n",
    "# Convert categorical features to numerical using one-hot encoding\n",
    "X_encoded = pd.get_dummies(X, columns=['sex', 'hypertension', 'diabetes'], drop_first=True)\n",
    "\n",
    "# Split the data into training and testing sets\n",
    "X_train, X_test, y_train, y_test = train_test_split(X_encoded, y, test_size=0.2, random_state=42)\n",
    "\n",
    "\n",
    "# Use MultiOutputClassifier to combine the classifiers\n",
    "multi_output_classifier = MultiOutputClassifier(KNeighborsClassifier(n_neighbors=100))\n",
    "\n",
    "# Train the model\n",
    "multi_output_classifier.fit(X_train, y_train)\n",
    "\n",
    "# Make predictions on the test data\n",
    "predictions = multi_output_classifier.predict(X_test)\n",
    "print(\"KNN (Categorical var) for Training Accorancy:- \", multi_output_classifier.score(X_train,y_train))\n",
    "print(\"KNN (Categorical var) for Testing Accorancy:-\", multi_output_classifier.score(X_test,y_test))\n"
   ]
  },
  {
   "cell_type": "code",
   "execution_count": null,
   "id": "82600bbe",
   "metadata": {},
   "outputs": [],
   "source": [
    "# # Features\n",
    "# feature_test = np.array([[1,18, 1.68,99,1,1]])\n",
    "# result = multi_output_classifier.predict(feature_test)\n",
    "\n",
    "# print(result)\n",
    "# print()\n",
    "# print(\"==========================================================\")"
   ]
  },
  {
   "cell_type": "markdown",
   "id": "a55fdd75",
   "metadata": {},
   "source": [
    "-------------------"
   ]
  },
  {
   "cell_type": "code",
   "execution_count": null,
   "id": "b8fc7a4d",
   "metadata": {},
   "outputs": [],
   "source": []
  },
  {
   "cell_type": "markdown",
   "id": "c96213f2",
   "metadata": {},
   "source": [
    "# Model Selection\n",
    "**We selected a decision tree model for both numerical and categorical data**"
   ]
  },
  {
   "cell_type": "code",
   "execution_count": null,
   "id": "ebbeaacb",
   "metadata": {},
   "outputs": [],
   "source": [
    "# Separate features (X_lin) and target variable (y_lin)\n",
    "#display values, of dependant variable and indepentd of linear Regression\n",
    "X_dtree_num = df[['sex','Age','Height', 'Weight','hypertension','diabetes']].values\n",
    "y_dtree_num = df[['BMI','Lower Limmit','Upper Limmit', 'Fat Percentage']].values\n",
    "\n",
    "# Separate features (X_ran) and target variable (y_ran)\n",
    "#display values, of dependant variable and indepentd of RandomForest\n",
    "X_dtree_cat = df[['sex','Age','Height', 'Weight','hypertension','diabetes']].values\n",
    "y_dtree_cat = df[['Level','Fitness Goal', 'Fitness Type', 'Exercises', 'Equipment Required', 'Diet','Conclusion Recommendation']].values\n",
    "\n",
    "# Split the data into training and testing sets\n",
    "X_train_dtree_num, X_test_dtree_num, y_train_dtree_num, y_test_dtree_num = train_test_split(X_dtree_num, y_dtree_num, test_size=0.3)\n",
    "X_train_dtree_cat, X_test_dtree_cat, y_train_dtree_cat, y_test_dtree_cat = train_test_split(X_dtree_cat, y_dtree_cat, test_size=0.3, random_state=101)\n",
    "\n",
    "dtree_numeric_var = DecisionTreeRegressor()\n",
    "dtree_numeric_var.fit(X_train_dtree_num,y_train_dtree_num)\n",
    "\n",
    "dtree_categorical_var = MultiOutputClassifier(DecisionTreeClassifier(random_state=42))\n",
    "dtree_categorical_var.fit(X_train_dtree_cat, y_train_dtree_cat)"
   ]
  },
  {
   "cell_type": "code",
   "execution_count": null,
   "id": "22a9bc2e",
   "metadata": {},
   "outputs": [],
   "source": [
    "print(\"The decision Tree (Numerical var) Accurency For Training:- \", dtree_numeric_var.score(X_train_dtree_num, y_train_dtree_num))\n",
    "print(\"The decision Tree (Numerical var) Accurency For Testing:- \",dtree_numeric_var.score(X_test_dtree_num, y_test_dtree_num))\n",
    "print(\"The decision tree (Categorical var) Accurency For Training: \", dtree_categorical_var.score(X_train_dtree_cat, y_train_dtree_cat))\n",
    "print(\"The decision tree (Categorical var) Accurency For Testing: \", dtree_categorical_var.score(X_test_dtree_cat, y_test_dtree_cat))"
   ]
  },
  {
   "cell_type": "code",
   "execution_count": null,
   "id": "404faf3c",
   "metadata": {},
   "outputs": [],
   "source": [
    "# Features\n",
    "feature_test = np.array([[1,18, 1.45,42.95,0,0]])\n",
    "result_dtree_num = dtree_numeric_var.predict(feature_test)\n",
    "result_dtree_cat = dtree_categorical_var.predict(feature_test)\n",
    "# print(result_lin)\n",
    "# print(result_ran)\n",
    "lower = result_dtree_num[:,1][0]\n",
    "upper = result_dtree_num[:,2][0]\n",
    "fat = result_dtree_num[:,3][0]\n",
    "level = result_dtree_cat[:,0][0]\n",
    "goal = result_dtree_cat[:,1][0]\n",
    "fType = result_dtree_cat[:,2][0]\n",
    "exercise = result_dtree_cat[:,3][0]\n",
    "equip = result_dtree_cat[:,4][0]\n",
    "diet = result_dtree_cat[:,5][0]\n",
    "conRec = result_dtree_cat[:,6][0]\n",
    "\n",
    "\n",
    "\n",
    "print()\n",
    "\n",
    "print(\"==========================================================\")\n",
    "print(\"Your BMI is: -\\n\", round(result_dtree_num[:,0][0],2))\n",
    "print()\n",
    "print(\"Your Lower Limmit is: -\\n\", round(lower,2))\n",
    "print()\n",
    "print(\"Your Upper Limmit is:- \\n\", round(upper,2))\n",
    "print()\n",
    "print(f'The Standard weight:- \\n{round(lower,2)} (kg) - {round(upper,2)} (kg)')\n",
    "print()\n",
    "print(f'Average Fat in Your Body is: \\n{round(fat,2)}%')\n",
    "print()\n",
    "print(f'Your Level is:- \\n{level}')\n",
    "print()\n",
    "print(f'Your Fitness Goal:- \\n{goal}')\n",
    "print()\n",
    "print(f'Your Fitness Type is:- \\n{fType}')\n",
    "print()\n",
    "print(f'Excercise Recommendation:- \\n{exercise}')\n",
    "print()\n",
    "print(f'Equipment Required:- \\n{equip}')\n",
    "print()\n",
    "print(f'Diet Recommendation:- \\n{diet}')\n",
    "print()\n",
    "print(f'Conclusion Recommendation:- \\n{conRec}')\n",
    "print()"
   ]
  },
  {
   "cell_type": "markdown",
   "id": "3d888af2",
   "metadata": {},
   "source": [
    "----------------"
   ]
  },
  {
   "cell_type": "markdown",
   "id": "4b1df784",
   "metadata": {},
   "source": [
    "# Hyper Parameter Tunning"
   ]
  },
  {
   "cell_type": "code",
   "execution_count": 238,
   "id": "18e2b99a",
   "metadata": {},
   "outputs": [],
   "source": [
    "from sklearn.model_selection import GridSearchCV"
   ]
  },
  {
   "cell_type": "code",
   "execution_count": 239,
   "id": "f9d4474a",
   "metadata": {},
   "outputs": [
    {
     "name": "stdout",
     "output_type": "stream",
     "text": [
      "Fitting 5 folds for each of 72 candidates, totalling 360 fits\n",
      "Best Parameters: {'estimator__criterion': 'entropy', 'estimator__max_depth': None, 'estimator__min_samples_leaf': 1, 'estimator__min_samples_split': 2}\n",
      "The Decision Tree Model Accuracy For Training: 0.9924591537494764\n",
      "The Decision Tree Model Accuracy For Testing: 0.8886097152428811\n"
     ]
    }
   ],
   "source": [
    "# Define the hyperparameter grid\n",
    "# Separate features (X) and target variable (y)\n",
    "#display values, of dependant variable and indepentd\n",
    "X = df[['sex','Age','Height', 'Weight','hypertension','diabetes']].values\n",
    "y = df[['Level','Fitness Goal', 'Fitness Type', 'Exercises', 'Equipment Required', 'Diet','Conclusion Recommendation']].values\n",
    "\n",
    "param_grid = {\n",
    "    'estimator__max_depth': [None, 10, 20, 30],  # You can expand this range\n",
    "    'estimator__min_samples_split': [2, 5, 10],\n",
    "    'estimator__min_samples_leaf': [1, 2, 4],\n",
    "    'estimator__criterion': ['gini', 'entropy']\n",
    "}\n",
    "\n",
    "# Split the data into training and testing sets\n",
    "X_train, X_test, y_train, y_test = train_test_split(X, y, test_size=0.2)\n",
    "\n",
    "# Create the MultiOutputClassifier with DecisionTreeClassifier and use GridSearchCV\n",
    "grid_search = GridSearchCV(MultiOutputClassifier(DecisionTreeClassifier(random_state=42)),\n",
    "                           param_grid, cv=5, verbose=1, n_jobs=-1)\n",
    "\n",
    "# Fit the grid search to the data\n",
    "grid_search.fit(X_train, y_train)\n",
    "\n",
    "# Print the best parameters found by the grid search\n",
    "print(\"Best Parameters:\", grid_search.best_params_)\n",
    "\n",
    "# Get the best estimator from the grid search\n",
    "best_dtree = grid_search.best_estimator_\n",
    "\n",
    "# Evaluate the accuracy on the training and testing sets using the best estimator\n",
    "print(\"The Decision Tree Model Accuracy For Training:\", best_dtree.score(X_train, y_train))\n",
    "print(\"The Decision Tree Model Accuracy For Testing:\", best_dtree.score(X_test, y_test))\n"
   ]
  },
  {
   "cell_type": "markdown",
   "id": "da336f98",
   "metadata": {},
   "source": [
    "--------------------"
   ]
  },
  {
   "cell_type": "markdown",
   "id": "688ac06e",
   "metadata": {},
   "source": [
    "# Model Saving"
   ]
  },
  {
   "cell_type": "code",
   "execution_count": null,
   "id": "acee6b34",
   "metadata": {},
   "outputs": [],
   "source": [
    "# from joblib import dump\n",
    "\n",
    "# # Save Linear Regression model\n",
    "# dump(dtree_numeric_var, 'models/decision_tree_regressor.joblib')\n",
    "\n",
    "# # Save Random Forest model\n",
    "# dump(dtree_categorical_var, 'models/decision_tree_classifier.joblib')\n"
   ]
  },
  {
   "cell_type": "markdown",
   "id": "85b9c40a",
   "metadata": {},
   "source": [
    "-------------------------"
   ]
  },
  {
   "cell_type": "markdown",
   "id": "13845f2c",
   "metadata": {},
   "source": [
    "### End Project"
   ]
  },
  {
   "cell_type": "code",
   "execution_count": null,
   "id": "63dab3ec",
   "metadata": {},
   "outputs": [],
   "source": []
  }
 ],
 "metadata": {
  "kernelspec": {
   "display_name": "Python 3 (ipykernel)",
   "language": "python",
   "name": "python3"
  },
  "language_info": {
   "codemirror_mode": {
    "name": "ipython",
    "version": 3
   },
   "file_extension": ".py",
   "mimetype": "text/x-python",
   "name": "python",
   "nbconvert_exporter": "python",
   "pygments_lexer": "ipython3",
   "version": "3.11.5"
  }
 },
 "nbformat": 4,
 "nbformat_minor": 5
}
